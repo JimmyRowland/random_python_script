{
 "cells": [
  {
   "cell_type": "code",
   "execution_count": 1,
   "metadata": {
    "collapsed": true
   },
   "outputs": [],
   "source": [
    "from sympy import Symbol, solve\n",
    "from math import *\n",
    "import numpy as np\n",
    "from scipy import constants\n",
    "import matplotlib.pyplot as plt\n",
    "e=constants.value(u'elementary charge')\n",
    "g=constants.value(u'standard acceleration of gravity')\n",
    "rhoW=1000\n",
    "rhoMercury=13690\n",
    "\n",
    "x = Symbol(\"x\")\n",
    "y = Symbol(\"y\")\n",
    "z = Symbol(\"z\")\n",
    "Ke = (4*pi*constants.epsilon_0)**(-1)\n",
    "epsilon_0=constants.epsilon_0\n",
    "eMass=9.10938356 / 10**31\n",
    "protonMass=1.6726219/10**27\n",
    "# Permeability=4*pi/10**7\n",
    "Permeability_air=constants.mu_0\n",
    "SPEED_OF_LIGHT=constants.c\n",
    "waterHeatOffusion=3.34*10**5\n",
    "waterHeatCapacity=4.186*10**3\n",
    "specificHeatIce=2.108*10**3\n",
    "waterVapor=2.256*10**6\n",
    "Kcopper=385\n",
    "Ksteel=50.2\n",
    "p0=constants.value(u'standard atmosphere')\n",
    "gas_constant=constants.value('molar gas constant')\n",
    "boltzmann = constants.value('Boltzmann constant')\n",
    "Avogadro=6.022*10**23\n",
    "T273=273.15\n",
    "c=3*10**8"
   ]
  },
  {
   "cell_type": "code",
   "execution_count": 7,
   "metadata": {},
   "outputs": [
    {
     "name": "stdout",
     "output_type": "stream",
     "text": [
      "6451.603913514372\n"
     ]
    }
   ],
   "source": [
    "#192\n",
    "n=2\n",
    "T=80+T273\n",
    "W=log(3)*n*gas_constant*T\n",
    "print(W)"
   ]
  },
  {
   "cell_type": "markdown",
   "metadata": {},
   "source": [
    "### 193"
   ]
  },
  {
   "cell_type": "code",
   "execution_count": 6,
   "metadata": {
    "collapsed": true
   },
   "outputs": [
    {
     "name": "stdout",
     "output_type": "stream",
     "text": [
      "37800.0\n77199.99999999999\n"
     ]
    }
   ],
   "source": [
    "V0=0.11\n",
    "V1=0.32\n",
    "p=1.8*10**5\n",
    "Q=1.15*10**5\n",
    "dV=V1-V0\n",
    "W=dV*p\n",
    "print(W)\n",
    "dU=Q-W\n",
    "print(dU)\n",
    "\n",
    "\n",
    "\n",
    "\n",
    "\n",
    "\n",
    "\n"
   ]
  },
  {
   "cell_type": "code",
   "execution_count": 10,
   "metadata": {},
   "outputs": [
    {
     "name": "stdout",
     "output_type": "stream",
     "text": [
      "207.861495\n711.5\n919.361495\n"
     ]
    }
   ],
   "source": [
    "#196\n",
    "n=0.25\n",
    "T=27+T273\n",
    "p=p0\n",
    "T1=127+T273\n",
    "dT=T1-T\n",
    "W=dT*n*(gas_constant)\n",
    "print(W)\n",
    "cCO2=28.46\n",
    "dU=cCO2*n*dT\n",
    "print(cCO2*n*dT)\n",
    "Q=dU+W\n",
    "print(Q)\n",
    "\n",
    "\n",
    "\n",
    "\n",
    "\n",
    "\n",
    "\n",
    "\n"
   ]
  },
  {
   "cell_type": "code",
   "execution_count": 15,
   "metadata": {},
   "outputs": [
    {
     "name": "stdout",
     "output_type": "stream",
     "text": [
      "600399.7007713567\n-14118.491384729617\n1.7782302943454416\n"
     ]
    }
   ],
   "source": [
    "# 197\n",
    "p=1.43*10**5\n",
    "V0=8.5/10**2\n",
    "V1=3.6/100\n",
    "r=1.67\n",
    "p1=p*V0**r/V1**r\n",
    "print(p1)\n",
    "W=1/(r-1)*(p*V0-p1*V1)\n",
    "print(W)\n",
    "T0T1=V0**(r-1)/V1**(r-1)\n",
    "print(T0T1)\n"
   ]
  },
  {
   "cell_type": "code",
   "execution_count": 21,
   "metadata": {},
   "outputs": [],
   "source": [
    "#198\n",
    "Q1=86\n",
    "W1=64\n",
    "\n",
    "print(86-64+11)\n",
    "W2=40\n",
    "dU=Q1-W1\n",
    "print(dU+W2)\n",
    "\n",
    "print(11+13)\n",
    "print(dU-13)\n",
    "\n",
    "\n"
   ]
  },
  {
   "cell_type": "code",
   "execution_count": 25,
   "metadata": {},
   "outputs": [
    {
     "name": "stdout",
     "output_type": "stream",
     "text": [
      "2479.747362\n"
     ]
    }
   ],
   "source": [
    "#199\n",
    "\n",
    "\n",
    "Qac=-900\n",
    "Ta=215\n",
    "Tb=310\n",
    "n=2\n",
    "dT=Tb-Ta\n",
    "dUab=3/2*n*gas_constant*dT\n",
    "\n",
    "\n",
    "print(n*gas_constant*dT-Qac)\n",
    "\n"
   ]
  },
  {
   "cell_type": "code",
   "execution_count": null,
   "metadata": {},
   "outputs": [
    {
     "name": "stdout",
     "output_type": "stream",
     "text": [
      "800.0\n"
     ]
    }
   ],
   "source": [
    "#1911\n",
    "print(320*3/2)"
   ]
  },
  {
   "cell_type": "code",
   "execution_count": 9,
   "metadata": {},
   "outputs": [
    {
     "name": "stdout",
     "output_type": "stream",
     "text": [
      "0.12380000000000002 0.0872\n302.610216718266\n97.74309999999991\n0.13319999999999999 0.02899999999999997\n0.13439999999999996 0.02150000000000002\n323168.87861271715\n% 4.787515486268784\n% 1.9662233672192087\n% 3.242850714755345\n[318009.69827586226, 327432.81395348784, 323168.87861271715]\n0.14589999999999997 0.017299999999999982\n% 3.332196522747779\n322870.4636140224 None\n"
     ]
    }
   ],
   "source": [
    "#lab4\n",
    "def error(x):\n",
    "    print('%',100*abs(x-waterHeatOffusion)/waterHeatOffusion)\n",
    "cw=waterHeatCapacity\n",
    "Troom=26\n",
    "Tcold=12.5\n",
    "\n",
    "Twarm=34\n",
    "mc=323/1000\n",
    "mww=446.8/1000-mc\n",
    "mcw=534/1000-mww-mc\n",
    "cc=(mcw*cw*(Troom-Tcold)-mww*cw*(Twarm-Troom))/(Twarm-Troom)/mc\n",
    "print(mww,mcw)\n",
    "print(cc)\n",
    "print(mc*cc)\n",
    "\n",
    "experimental=[]\n",
    "mw1=456.2/1000-mc\n",
    "T1=36\n",
    "T2=18.5\n",
    "mice=485.2/1000-mw1-mc\n",
    "Lf=(mw1*cw*(T1-T2)+mc*cc*(T1-T2)-mice*cw*T2)/mice\n",
    "experimental.append(Lf)\n",
    "print(mw1,mice)\n",
    "\n",
    "mw1=457.4/1000-mc\n",
    "T1=38.5\n",
    "T2=24.5\n",
    "mice=478.9/1000-mw1-mc\n",
    "print(mw1,mice)\n",
    "\n",
    "Lf=(mw1*cw*(T1-T2)+mc*cc*(T1-T2)-mice*cw*T2)/mice\n",
    "experimental.append(Lf)\n",
    "\n",
    "mw1=468.9/1000-mc\n",
    "T1=37.1\n",
    "T2=26.5\n",
    "mice=486.2/1000-mw1-mc\n",
    "Lf=(mw1*cw*(T1-T2)+mc*cc*(T1-T2)-mice*cw*T2)/mice\n",
    "experimental.append(Lf)\n",
    "print(Lf)\n",
    "for x in experimental:\n",
    "    error(x)\n",
    "print(experimental)\n",
    "print(mw1,mice)\n",
    "print(np.average(experimental),error(np.average(experimental)))\n",
    "\n",
    "\n",
    "\n",
    "\n",
    "\n"
   ]
  },
  {
   "cell_type": "code",
   "execution_count": 4,
   "metadata": {
    "collapsed": true
   },
   "outputs": [
    {
     "name": "stdout",
     "output_type": "stream",
     "text": [
      "7100 0.352112676056338\n"
     ]
    }
   ],
   "source": [
    "#201\n",
    "W=2500\n",
    "Q=4600\n",
    "print(W+Q,W/(W+Q))"
   ]
  },
  {
   "cell_type": "code",
   "execution_count": 11,
   "metadata": {},
   "outputs": [
    {
     "name": "stdout",
     "output_type": "stream",
     "text": [
      "0.21830985915492956\n11100.0\n0.30869565217391304\n170500\n"
     ]
    }
   ],
   "source": [
    "#202\n",
    "Qh=1.42*10**4\n",
    "W=3100\n",
    "e=W/Qh\n",
    "print(e)\n",
    "Qc=Qh-W\n",
    "print(Qc)\n",
    "c=4.6*10**4\n",
    "m=Qh/c\n",
    "print(m)\n",
    "P=W*55\n",
    "print(P)"
   ]
  },
  {
   "cell_type": "code",
   "execution_count": 13,
   "metadata": {},
   "outputs": [
    {
     "name": "stdout",
     "output_type": "stream",
     "text": [
      "17142.85714285714\n53142.857142857145\n"
     ]
    }
   ],
   "source": [
    "#203\n",
    "e=2.1\n",
    "Qc=3.6*10**4\n",
    "W=Qc/e\n",
    "print(W)\n",
    "print(W+Qc)\n",
    "\n",
    "\n",
    "\n",
    "\n",
    "\n"
   ]
  },
  {
   "cell_type": "code",
   "execution_count": 15,
   "metadata": {},
   "outputs": [
    {
     "name": "stdout",
     "output_type": "stream",
     "text": [
      "468.77535901947425\n439.87156004123136\n"
     ]
    }
   ],
   "source": [
    "#2025\n",
    "mi=15\n",
    "T=20\n",
    "\n",
    "Q=waterHeatOffusion*m+waterHeatCapacity*m*T\n",
    "dSi=waterHeatOffusion*m/T273+waterHeatCapacity*m*log((T+T273)/(T273))\n",
    "print(dSi)\n",
    "\n",
    "print(Q/(T+T273))\n",
    "\n",
    "\n",
    "\n",
    "\n",
    "\n"
   ]
  },
  {
   "cell_type": "code",
   "execution_count": 27,
   "metadata": {},
   "outputs": [
    {
     "name": "stdout",
     "output_type": "stream",
     "text": [
      "809172.0\n337155.0\n1146327.0\n"
     ]
    }
   ],
   "source": [
    "#204\n",
    "e=2.4\n",
    "mw=1.8\n",
    "Tw=25\n",
    "Ti=-5\n",
    "\n",
    "Q=waterHeatCapacity*Tw*mw+waterHeatOffusion*mw-specificHeatIce*mw*Ti\n",
    "print(Q)\n",
    "W=Q/e\n",
    "print(W)\n",
    "print(W+Q)"
   ]
  },
  {
   "cell_type": "code",
   "execution_count": 35,
   "metadata": {},
   "outputs": [
    {
     "name": "stdout",
     "output_type": "stream",
     "text": [
      "45762.71186440678\n[442.000000000000]\n"
     ]
    }
   ],
   "source": [
    "#2005\n",
    "e=0.59\n",
    "W=2.7*10**4\n",
    "Qh=W/e\n",
    "print(Qh)\n",
    "y=solve((1-(20+T273)/(x+273)-e),x)\n",
    "print(y)\n",
    "\n",
    "\n",
    "\n",
    "\n"
   ]
  },
  {
   "cell_type": "code",
   "execution_count": 3,
   "metadata": {},
   "outputs": [
    {
     "name": "stdout",
     "output_type": "stream",
     "text": [
      "[296.919431279621]\n{x: 296.919431279621, y: 48.5768922497909}\n{x: 296.919431279621, y: 26.4258293838863}\n"
     ]
    }
   ],
   "source": [
    "#2006\n",
    "e=0.367\n",
    "Tc=-85.2+T273\n",
    "e1=0.456\n",
    "print(solve((1-Tc/x-e),x))\n",
    "print(solve((1-Tc/x-e,1-Tc/(x+y)-e1),x,y))\n",
    "print(solve((1-Tc/x-e,1-(Tc-y)/x-e1),x,y))\n",
    "\n",
    "\n",
    "\n",
    "\n",
    "\n",
    "\n"
   ]
  },
  {
   "cell_type": "code",
   "execution_count": 12,
   "metadata": {},
   "outputs": [
    {
     "name": "stdout",
     "output_type": "stream",
     "text": [
      "2000.0\n120.27239580856474 240.54479161712948 120.27239580856474\n613.7056388801095 2000.0 -1386.2943611198905\n0.08767223412572993\n"
     ]
    }
   ],
   "source": [
    "#207\n",
    "\n",
    "\n",
    "Pa=2*10**5\n",
    "Va=0.01\n",
    "print(Pa*Va)\n",
    "n=2\n",
    "Pb=4*10**5\n",
    "Vb=0.005\n",
    "Pc=Pb\n",
    "Vc=Va\n",
    "print(Pa*Va/n/gas_constant,Pc*Vc/n/gas_constant,Pb*Vb/n/gas_constant)\n",
    "Wbc=(Vc-Vb)*Pb\n",
    "Wab=(Pa*Va)*log(Vb/Va)\n",
    "print(Wbc+Wab,Wbc,Wab)\n",
    "Qh=Wbc+Wbc*5/2\n",
    "print((Wbc+Wab)/Qh)\n"
   ]
  },
  {
   "cell_type": "code",
   "execution_count": 26,
   "metadata": {},
   "outputs": [
    {
     "name": "stdout",
     "output_type": "stream",
     "text": [
      "[0.0332661536598000]\n20943.8276601534\n-16633.0768299000\n4310.75083025336\n0.205824403265826\n600.150000000000 600.15\n0.666666666666667\n"
     ]
    }
   ],
   "source": [
    "#208\n",
    "n=2\n",
    "Cv=3/2\n",
    "Tmax=327+T273\n",
    "Pa=10**5\n",
    "Pb=3*10**5\n",
    "Vb=solve((Pb*x*Cv-Tmax*n*gas_constant*Cv),x)[0]\n",
    "print(solve((Pb*x*Cv-Tmax*n*gas_constant*Cv),x))\n",
    "Pc=Pa\n",
    "Vc=Vb*Pb/Pc\n",
    "Va=Vb\n",
    "Qab=(Pb-Pa)*Va*Cv\n",
    "Wac=((Pb*Vb)*log(Vc/Vb))\n",
    "Qbc=Wac\n",
    "print(Qab+Qbc)\n",
    "Wac=(Va-Vc)*Pc\n",
    "Uac=Wac*Cv\n",
    "Qac=Wac+Uac\n",
    "print(Qac)\n",
    "W=Qab+Qbc+Qac\n",
    "print(W)\n",
    "Qh=Qab+Qbc\n",
    "e=W/Qh\n",
    "print(e)\n",
    "Th=Pb*Vb/n/gas_constant\n",
    "print(Th,Tmax)\n",
    "Tc=Pa*Va/n/gas_constant\n",
    "print(1-Tc/Th)"
   ]
  },
  {
   "cell_type": "code",
   "execution_count": 32,
   "metadata": {},
   "outputs": [
    {
     "name": "stdout",
     "output_type": "stream",
     "text": [
      "-200.77710729315703\n221.33037694013305\n20.55326964697602\n"
     ]
    }
   ],
   "source": [
    "#2001\n",
    "m=0.25\n",
    "T=20+T273\n",
    "dT=82-20\n",
    "T0=82+T273\n",
    "dQ=m*waterHeatCapacity*dT\n",
    "dS=m*waterHeatCapacity*log(T/T0)\n",
    "dS1=dQ/T\n",
    "print(dS)\n",
    "print(dS1)\n",
    "print(dS+dS1)\n",
    "\n",
    "\n",
    "\n",
    "\n",
    "\n",
    "\n",
    "\n"
   ]
  },
  {
   "cell_type": "code",
   "execution_count": 36,
   "metadata": {
    "collapsed": true
   },
   "outputs": [
    {
     "name": "stdout",
     "output_type": "stream",
     "text": [
      "6045.826075304838\n1222.7713710415524\n"
     ]
    }
   ],
   "source": [
    "#2002\n",
    "m=1\n",
    "T=100+T273\n",
    "dS=2256*10**3*m/T\n",
    "print(dS)\n",
    "\n",
    "dS1=waterHeatOffusion*m/T273\n",
    "print(dS1)\n",
    "\n",
    "\n",
    "\n"
   ]
  },
  {
   "cell_type": "code",
   "execution_count": 6,
   "metadata": {},
   "outputs": [
    {
     "name": "stdout",
     "output_type": "stream",
     "text": [
      "39.40066066347943\n"
     ]
    }
   ],
   "source": [
    "#331\n",
    "print(90-degrees(atan(14/11.5)))\n",
    "\n"
   ]
  },
  {
   "cell_type": "code",
   "execution_count": 8,
   "metadata": {},
   "outputs": [
    {
     "name": "stdout",
     "output_type": "stream",
     "text": [
      "205479452.05479452\n4.246575342465753e-07\n"
     ]
    }
   ],
   "source": [
    "#332\n",
    "wl=620/10**9\n",
    "n=1.46\n",
    "v=c/n\n",
    "print(v)\n",
    "f=c/wl\n",
    "wl1=v/f\n",
    "print(wl1)\n",
    "\n",
    "\n",
    "\n",
    "\n",
    "\n",
    "\n",
    "\n"
   ]
  },
  {
   "cell_type": "code",
   "execution_count": 11,
   "metadata": {},
   "outputs": [
    {
     "name": "stdout",
     "output_type": "stream",
     "text": [
      "67.69775375128452\n"
     ]
    }
   ],
   "source": [
    "#333\n",
    "n1=1.72\n",
    "n2=1.61\n",
    "angle=degrees(asin(sin(1/3*pi)*n1/n2))\n",
    "print(angle)\n",
    "\n"
   ]
  },
  {
   "cell_type": "code",
   "execution_count": 17,
   "metadata": {},
   "outputs": [
    {
     "name": "stdout",
     "output_type": "stream",
     "text": [
      "51.88193569384938\n34.62994225313725\n"
     ]
    }
   ],
   "source": [
    "#334\n",
    "n=1.62\n",
    "angle=90-degrees(asin(1/n))\n",
    "print(angle)\n",
    "angle1=90-degrees(asin(1.333/n))\n",
    "print(angle1)"
   ]
  },
  {
   "cell_type": "code",
   "execution_count": 21,
   "metadata": {},
   "outputs": [
    {
     "name": "stdout",
     "output_type": "stream",
     "text": [
      "3.444444444444444e-07\n31290.322580645166\n"
     ]
    }
   ],
   "source": [
    "#335\n",
    "n=1.8\n",
    "wl=620/10**9\n",
    "d=3/1000\n",
    "l=1.7/100-d\n",
    "v=c/n\n",
    "wl1=v/c*wl\n",
    "print(wl1)\n",
    "print(d/wl1+l/wl)"
   ]
  },
  {
   "cell_type": "code",
   "execution_count": 26,
   "metadata": {},
   "outputs": [
    {
     "name": "stdout",
     "output_type": "stream",
     "text": [
      "35.8500713851393 51.34019174590991\n4.390208281314925\n"
     ]
    }
   ],
   "source": [
    "#336\n",
    "anglein=atan(1.5/1.2)\n",
    "angleout=asin(sin(anglein)/1.3333)\n",
    "print(degrees(angleout),degrees(anglein))\n",
    "l=1.5+tan(angleout)*4\n",
    "print(l)\n",
    "\n"
   ]
  },
  {
   "cell_type": "code",
   "execution_count": 29,
   "metadata": {},
   "outputs": [
    {
     "name": "stdout",
     "output_type": "stream",
     "text": [
      "40.46961581505515\n"
     ]
    }
   ],
   "source": [
    "#337\n",
    "n=1.68\n",
    "angle=radians(25)\n",
    "angle1=asin(sin(angle)*n)\n",
    "angle2=angle1-angle\n",
    "print(degrees(angle2*2))"
   ]
  },
  {
   "cell_type": "code",
   "execution_count": 30,
   "metadata": {},
   "outputs": [
    {
     "name": "stdout",
     "output_type": "stream",
     "text": [
      "0.22232105403696603\n"
     ]
    }
   ],
   "source": [
    "#338\n",
    "n=1.0003\n",
    "h=20*1000\n",
    "R=6378*1000\n",
    "x=R/(R+h)\n",
    "print(degrees(asin(n*x)-asin(x)))\n"
   ]
  },
  {
   "cell_type": "code",
   "execution_count": 21,
   "metadata": {},
   "outputs": [
    {
     "name": "stdout",
     "output_type": "stream",
     "text": [
      "[1.5085876481137985, 1.5343831643801198, 1.5343831643801198]\n[1.5754490187409982, 1.6038105064579793, 1.6038105064579793] [1.4458375147933025, 1.4693513904612874, 1.4693513904612874]\n[1.51064327 1.53658095 1.53658095]\n[0.06480575 0.06722956 0.06722956]\n[0.70955112 2.4387299  2.4387299 ]\n[0.068, 0.07, 0.068]\n[1.3060974535935805, 1.3150847072095644, 1.3060974535935805]\n[1.3405660055824302, 1.3489881484249522, 1.3405660055824302] [1.2723617878516569, 1.281893129970798, 1.2723617878516569]\n[1.3064639  1.31544064 1.3064639 ] [0.03410211 0.03354751 0.03410211] [-1.76963183 -1.09468878 -1.76963183]\n"
     ]
    }
   ],
   "source": [
    "#lab5 refraction\n",
    "thickness=9.601/1000\n",
    "dt=0.01/1000\n",
    "D1=[(6-2.6)/100,3.3/100,3.3/100]\n",
    "D1average=np.average(D1)\n",
    "dD=0.001\n",
    "nglass=[sqrt(D**2+16*thickness**2)/D for D in D1]\n",
    "print(nglass)\n",
    "# nglassExperimental=np.average(nglass)\n",
    "nGlassMax=[sqrt((D + dD) ** 2 + 16 * (thickness + dt) ** 2) / (D - dD) for D in D1]\n",
    "nGlassMin=[sqrt((D - dD) ** 2 + 16 * (thickness - dt) ** 2) / (D + dD) for D in D1]\n",
    "nglassExperimental= np.add(nGlassMax , nGlassMin) / 2\n",
    "print(nGlassMax,nGlassMin)\n",
    "print(nglassExperimental)\n",
    "dnGlass= np.subtract(nGlassMax , nGlassMin) / 2\n",
    "print(dnGlass)\n",
    "nGlassError=(nglassExperimental-nglassTheory)/nglassTheory*100\n",
    "print(nGlassError)\n",
    "nwatertheory=1.33\n",
    "D2=[(6-2.6)/100*2,(6-2.5)*2/100,(6-2.6)/100*2]\n",
    "D2average=np.average(D2)\n",
    "nglassTheory=1.5\n",
    "nwater=[nglassTheory*D/sqrt(D**2+16*thickness**2) for D in D2]\n",
    "nwaterExperimental=np.average(nwater)\n",
    "\n",
    "\n",
    "\n",
    "nWaterMax=[nglassTheory*(D+dD)/sqrt((D-dD)**2+16*(thickness-dt)**2) for D in D2]\n",
    "nWaterMin=[nglassTheory*(D-dD)/sqrt((D+dD)**2+16*(thickness+dt)**2) for D in D2]\n",
    "nWaterExperimental=np.add(nWaterMax,nWaterMin)/2\n",
    "# print(nWaterExperimental)\n",
    "dnWater=np.subtract(nWaterMax,nWaterMin)/2\n",
    "nWaterError=(nWaterExperimental-nwatertheory)/nwatertheory*100\n",
    "\n",
    "print(D2)\n",
    "print(nwater)\n",
    "print(nWaterMax,nWaterMin)\n",
    "print(nWaterExperimental,dnWater,nWaterError)\n",
    "# print(nwater)\n",
    "\n",
    "# print(D2)\n",
    "\n",
    "\n"
   ]
  },
  {
   "cell_type": "code",
   "execution_count": 7,
   "metadata": {
    "collapsed": true
   },
   "outputs": [
    {
     "name": "stdout",
     "output_type": "stream",
     "text": [
      "5.037593984962406 6.7\n23.834586466165412\n"
     ]
    }
   ],
   "source": [
    "#3412\n",
    "d=19.2\n",
    "h=6.7\n",
    "h1=h/1.33\n",
    "print(h1,h)\n",
    "print((d-h+d)/1.33)"
   ]
  },
  {
   "cell_type": "code",
   "execution_count": 11,
   "metadata": {},
   "outputs": [
    {
     "data": {
      "text/plain": [
       "[(0.103125000000000, 0.202764976958525)]"
      ]
     },
     "execution_count": 11,
     "metadata": {},
     "output_type": "execute_result"
    }
   ],
   "source": [
    "si=6\n",
    "h=5.5/1000\n",
    "hi=32/100\n",
    "solve((1/x+1/si-2/y,h/hi-x/si),x,y)\n",
    "\n"
   ]
  },
  {
   "cell_type": "code",
   "execution_count": 3,
   "metadata": {},
   "outputs": [
    {
     "name": "stdout",
     "output_type": "stream",
     "text": [
      "0.181428571428571\n{x: 1.95384615384615, y: -0.0317500000000000}\n{x: 0.0930402930402930, y: -0.00151190476190476}\n"
     ]
    }
   ],
   "source": [
    "#347\n",
    "s=20/100\n",
    "h=3.25/1000\n",
    "R=12.7/100\n",
    "f=solve((1/x-0.7*(1/R)),x)[0]\n",
    "print(f)\n",
    "print(solve((1/x+1/s-1/f,h/y+s/x),x,y))\n",
    "print(solve((1/x+1/s-2/R,h/y+s/x),x,y))"
   ]
  },
  {
   "cell_type": "code",
   "execution_count": 26,
   "metadata": {},
   "outputs": [
    {
     "data": {
      "text/plain": [
       "[0.181428571428571]"
      ]
     },
     "execution_count": 26,
     "metadata": {},
     "output_type": "execute_result"
    }
   ],
   "source": [
    "solve((1/x-0.7*(0-1/R)),x)"
   ]
  },
  {
   "cell_type": "code",
   "execution_count": 11,
   "metadata": {},
   "outputs": [
    {
     "name": "stdout",
     "output_type": "stream",
     "text": [
      "2.4\n{x: 5.72500000000000, y: 3.32500000000000}\n{x: 6.92500000000000, y: 2.12500000000000}\n{x: 8.12500000000000, y: 0.925000000000000}\n{x: 4.52500000000000, y: 4.52500000000000}\n"
     ]
    }
   ],
   "source": [
    "f=125*10**6\n",
    "c=3*10**8\n",
    "wl=c/f\n",
    "print(wl)\n",
    "d=9.05\n",
    "print(solve((x+y-d,x-y-wl),x,y))\n",
    "print(solve((x+y-d,x-y-2*wl),x,y))\n",
    "print(solve((x+y-d,x-y-3*wl),x,y))\n",
    "print(solve((x+y-d,x-y-0*wl),x,y))"
   ]
  },
  {
   "cell_type": "code",
   "execution_count": 12,
   "metadata": {},
   "outputs": [
    {
     "name": "stdout",
     "output_type": "stream",
     "text": [
      "5.900000000000002e-07\n"
     ]
    }
   ],
   "source": [
    "y=2.95/1000\n",
    "R=2.3\n",
    "d=0.46/1000\n",
    "print(y*d/R)"
   ]
  },
  {
   "cell_type": "code",
   "execution_count": 15,
   "metadata": {},
   "outputs": [
    {
     "name": "stdout",
     "output_type": "stream",
     "text": [
      "0.000375\n1.21e-06\n"
     ]
    }
   ],
   "source": [
    "wl=605/10**9\n",
    "R=3\n",
    "y=4.84/1000\n",
    "d=wl*R/y\n",
    "print(d)\n",
    "print(y*2*d/R)"
   ]
  },
  {
   "cell_type": "code",
   "execution_count": 22,
   "metadata": {
    "collapsed": true
   },
   "outputs": [
    {
     "name": "stdout",
     "output_type": "stream",
     "text": [
      "0.0007253333333333334\n0.0003626667248948288\n"
     ]
    }
   ],
   "source": [
    "R=0.64\n",
    "d=0.3/1000\n",
    "wl=680/10**9\n",
    "y=R*wl/d\n",
    "print(y/2)\n",
    "y=R*tan(asin(wl/pi/d*acos(sqrt(0.5))))\n",
    "print(y)"
   ]
  },
  {
   "cell_type": "code",
   "execution_count": 5,
   "metadata": {},
   "outputs": [
    {
     "name": "stdout",
     "output_type": "stream",
     "text": [
      "2.826585179526356\n"
     ]
    }
   ],
   "source": [
    "print(3.7/1.309)"
   ]
  },
  {
   "cell_type": "code",
   "execution_count": 8,
   "metadata": {},
   "outputs": [
    {
     "name": "stdout",
     "output_type": "stream",
     "text": [
      "4.655\n"
     ]
    }
   ],
   "source": [
    "print(3.5*1.33)"
   ]
  },
  {
   "cell_type": "code",
   "execution_count": 17,
   "metadata": {},
   "outputs": [
    {
     "name": "stdout",
     "output_type": "stream",
     "text": [
      "0.0909090909090909\n0.0151515151515152\n"
     ]
    }
   ],
   "source": [
    "R=18/100\n",
    "s=9\n",
    "h=1.5\n",
    "s1=solve((1/s+1/x-2/R),x)[0]\n",
    "print(s1)\n",
    "h1=s1/s*h\n",
    "print(h1)\n"
   ]
  },
  {
   "cell_type": "code",
   "execution_count": 26,
   "metadata": {},
   "outputs": [
    {
     "name": "stdout",
     "output_type": "stream",
     "text": [
      "108.843537414966\n"
     ]
    }
   ],
   "source": [
    "wl=640/10**9\n",
    "t=1/4*(wl/1.47)\n",
    "print(t*10**9)\n",
    "\n",
    "#356\n",
    "\n"
   ]
  },
  {
   "cell_type": "code",
   "execution_count": 33,
   "metadata": {},
   "outputs": [
    {
     "name": "stdout",
     "output_type": "stream",
     "text": [
      "1068.7022900763359\n32.702290076336055\n2.137404580152672e-06\n10.0\n"
     ]
    }
   ],
   "source": [
    "t=1036/10**9\n",
    "n=2.62\n",
    "ng=1.52\n",
    "wl=560/10**9\n",
    "t1=1/2*(wl/n)*10\n",
    "print(t1*10**9)\n",
    "print((t1-t)*10**9)\n",
    "print(2*t1)\n",
    "wl1=wl/n\n",
    "print(2*t1/wl1)"
   ]
  },
  {
   "cell_type": "code",
   "execution_count": 34,
   "metadata": {},
   "outputs": [
    {
     "name": "stdout",
     "output_type": "stream",
     "text": [
      "1542.8000000000002\n"
     ]
    }
   ],
   "source": [
    "t=290\n",
    "n=1.33\n",
    "wl=4*t*n\n",
    "print(wl)"
   ]
  },
  {
   "cell_type": "code",
   "execution_count": 36,
   "metadata": {},
   "outputs": [
    {
     "name": "stdout",
     "output_type": "stream",
     "text": [
      "0.5855250000000001\n"
     ]
    }
   ],
   "source": [
    "print(1850*633/10**9/2*10**3)"
   ]
  },
  {
   "cell_type": "code",
   "execution_count": 37,
   "metadata": {},
   "outputs": [
    {
     "name": "stdout",
     "output_type": "stream",
     "text": [
      "1.714548653852942\n"
     ]
    }
   ],
   "source": [
    "angle1=radians(35.11)\n",
    "angle2=radians(19.6)\n",
    "print(sin(angle1)/sin(angle2))"
   ]
  },
  {
   "cell_type": "code",
   "execution_count": null,
   "metadata": {},
   "outputs": [
    {
     "name": "stdout",
     "output_type": "stream",
     "text": [
      "166.42857142857142 167.91428571428574\n5.759379759103011e-05\n"
     ]
    }
   ],
   "source": [
    "n=1.75\n",
    "ng=1.5\n",
    "wl=582.5\n",
    "wl2=587.7\n",
    "t=1/2*wl/n\n",
    "t2=1/2*wl2/n\n",
    "print(t,t2)\n",
    "print((t2-t)/(176-21)/t)\n",
    "\n"
   ]
  },
  {
   "cell_type": "code",
   "execution_count": null,
   "metadata": {},
   "outputs": [
    {
     "name": "stdout",
     "output_type": "stream",
     "text": [
      "11.30730050933786\n1.2733446519524618\n"
     ]
    }
   ],
   "source": [
    "n=1.48\n",
    "an=2.5/10**5\n",
    "ag=5/10**6\n",
    "l=3*10**7\n",
    "wl=589\n",
    "T0=20\n",
    "vT=5\n",
    "dt=vT*ag\n",
    "print(l*n*(ag+an)*5/wl)\n",
    "print(l*ag*5/wl)\n",
    "print(14*589/579/3*2.8)"
   ]
  },
  {
   "cell_type": "code",
   "execution_count": null,
   "metadata": {},
   "outputs": [],
   "source": []
  }
 ],
 "metadata": {
  "kernelspec": {
   "display_name": "Python 2",
   "language": "python",
   "name": "python2"
  },
  "language_info": {
   "codemirror_mode": {
    "name": "ipython",
    "version": 2
   },
   "file_extension": ".py",
   "mimetype": "text/x-python",
   "name": "python",
   "nbconvert_exporter": "python",
   "pygments_lexer": "ipython2",
   "version": "2.7.6"
  }
 },
 "nbformat": 4,
 "nbformat_minor": 0
}
