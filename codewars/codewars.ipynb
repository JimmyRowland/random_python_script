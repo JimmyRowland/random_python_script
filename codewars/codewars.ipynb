{
 "cells": [
  {
   "cell_type": "code",
   "execution_count": 5,
   "metadata": {
    "collapsed": true,
    "pycharm": {
     "is_executing": false
    }
   },
   "outputs": [],
   "source": [
    "import re"
   ]
  },
  {
   "cell_type": "code",
   "execution_count": null,
   "outputs": [],
   "source": [
    "start = -1\n",
    "end = -5\n",
    "interval = -3\n",
    "x = \"1001001\"[start:end:interval]\n",
    "print(x)\n",
    "\n"
   ],
   "metadata": {
    "collapsed": false,
    "pycharm": {
     "name": "#%%\n"
    }
   }
  },
  {
   "cell_type": "code",
   "execution_count": 13,
   "outputs": [
    {
     "name": "stdout",
     "text": [
      "1 2 3 4 5 6 7 8 9 0\n(123) 456-7890\n"
     ],
     "output_type": "stream"
    }
   ],
   "source": [
    "listToSpread=\"1 2 3 4 5 6 7 8 9 0\".split(\" \")\n",
    "print(*listToSpread)\n",
    "print(\"({}{}{}) {}{}{}-{}{}{}{}\".format(*listToSpread))"
   ],
   "metadata": {
    "collapsed": false,
    "pycharm": {
     "name": "#%%\n",
     "is_executing": false
    }
   }
  },
  {
   "cell_type": "code",
   "execution_count": 19,
   "outputs": [
    {
     "name": "stdout",
     "text": [
      "0\nb\n"
     ],
     "output_type": "stream"
    }
   ],
   "source": [
    "def find_missing_letter(c):\n",
    "    return next(chr(ord(c[i])+1) for i in range(len(c)-1) if ord(c[i])+1 != ord(c[i+1]))\n",
    "print (next(iterator for iterator in range(10)))\n",
    "print(find_missing_letter(\"acd\"))"
   ],
   "metadata": {
    "collapsed": false,
    "pycharm": {
     "name": "#%%\n",
     "is_executing": false
    }
   }
  },
  {
   "cell_type": "code",
   "execution_count": 25,
   "outputs": [
    {
     "name": "stdout",
     "text": [
      "Sorted does not modify [0, 2, 3]\nlist1 [0, 3, 2]\nlist.sort does [0, 2, 3]\n"
     ],
     "output_type": "stream"
    }
   ],
   "source": [
    "list1=[0,3,2]\n",
    "print('Sorted does not modify',sorted(list1))\n",
    "\n",
    "print('list1',list1)\n",
    "list1.sort()\n",
    "print('list.sort does',list1)\n"
   ],
   "metadata": {
    "collapsed": false,
    "pycharm": {
     "name": "#%%\n",
     "is_executing": false
    }
   }
  },
  {
   "cell_type": "code",
   "execution_count": 34,
   "outputs": [
    {
     "name": "stdout",
     "text": [
      "r)c)de\nr)c)de\n()()((\n"
     ],
     "output_type": "stream"
    }
   ],
   "source": [
    "def duplicate_encode(word):\n",
    "    print(re.sub('e',')',word,re.IGNORECASE))\n",
    "    for x in word:\n",
    "        if x not in '()':\n",
    "            if re.search('{}.*{}'.format(x,x), word, re.IGNORECASE):\n",
    "                word = re.sub('{}'.format(x),')',word,re.IGNORECASE)\n",
    "                # word = word.replace(x,')')\n",
    "            else:\n",
    "                word = word.replace(x,'(')\n",
    "    return word\n",
    "    #your code here\n",
    "duplicate_encode('recede')\n",
    "print(duplicate_encode('recede'))"
   ],
   "metadata": {
    "collapsed": false,
    "pycharm": {
     "name": "#%%\n",
     "is_executing": false
    }
   }
  }
 ],
 "metadata": {
  "kernelspec": {
   "name": "pycharm-5f1edaa1",
   "language": "python",
   "display_name": "PyCharm (random_python_script)"
  },
  "language_info": {
   "codemirror_mode": {
    "name": "ipython",
    "version": 2
   },
   "file_extension": ".py",
   "mimetype": "text/x-python",
   "name": "python",
   "nbconvert_exporter": "python",
   "pygments_lexer": "ipython2",
   "version": "2.7.6"
  },
  "pycharm": {
   "stem_cell": {
    "cell_type": "raw",
    "source": [],
    "metadata": {
     "collapsed": false
    }
   }
  }
 },
 "nbformat": 4,
 "nbformat_minor": 0
}