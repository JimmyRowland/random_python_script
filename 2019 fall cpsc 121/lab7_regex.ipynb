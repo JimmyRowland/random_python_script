{
 "cells": [
  {
   "cell_type": "markdown",
   "metadata": {},
   "source": [
    "<h1>CPSC 121: Models of Computation</h1>\n",
    "<h1>Lab #7: Regular Expressions</h1>\n",
    "<h2><br>\n",
    "Learning Objectives:</h2>\n",
    "<ul>\n",
    "\t<li>To be able to understand, interpret and construct regular expressions</li>\n",
    "\t<li>To be able to use the symbols (*,+,?,[ ],|,^, etc...) properly in\n",
    "\tregular expressions</li>\n",
    "\t<li>To be able to test and debug regular expressions </li>\n",
    "</ul>\n",
    "<h2>Pre-Lab Instructions:</h2>\n",
    "<p>It is <b>required</b> that you complete <b>Exercises 1-12</b> prior to the lab.\n",
    " Please show your complete solutions to those 12 exercises to your lab TA's <b>before starting your lab</b>.</p>\n",
    "<p>Sections 1 and 3 are optional, but will help your understanding of regular expressions.</p>\n",
    "<p>This lab uses some JavaScript: please ensure that it is enabled in your browser.</p>\n",
    "<h2>Table of Contents:</h2>\n",
    "<p><a href=\"#sec1\">Section 1: Background and Introductory Language Theory</a><br>\n",
    "<a href=\"#sec2\">Section 2: The Cat in the Hat Rhymes with .*at</a><br>\n",
    "<a href=\"#sec3\">Section 3: Programming with Regular Expressions</a><br>\n",
    "<a href=\"#sec4\">Section 4: Regular Expression Reference</a><br>\n",
    "<a href=\"#sec5\">Section 5: Pre-Lab Exercises (3 marks)</a><br>\n",
    "<a href=\"#sec6\">Section 6: Lab Exercises (5 marks)</a><br>\n",
    "<a href=\"#sec7\">Section 7: Further Analysis Questions (1 marks)</a><br>\n",
    "<a href=\"#sec8\">Section 8: End of Lab Survey (1 mark)</a><br>\n",
    "<a href=\"#sec9\">Section 9: Challenge Exercises</a><br>\n",
    "<a href=\"#sec10\">Section 10: Marking Scheme</a></p>\n",
    "<h2><a name=\"sec1\"></a>Section 1: Background and Introductory Language Theory\n",
    "(Optional)</h2>\n",
    "<p>Consider the following statements in a variety of different languages:</p>\n",
    "<ol>\n",
    "\t<li>Mary had a little lamb. [English]</li>\n",
    "\t<li>Parlez-vous chinois? [French]</li>\n",
    "\t<li>Heghlu'meH QaQ jajvam! [Klingon]</li>\n",
    "\t<li>for (j=0;j&lt;100;j++) tot += j; [JAVA]</li>\n",
    "<li>01010101100111010101 [Binary Strings]</li>\n",
    "</ol>\n",
    "<p>Each of the statements is a valid statement in its own language, but not in\n",
    "any of the others.&nbsp; Let's say that we have a hypothetical computer program called\n",
    "<tt>LANGUAGECHECK</tt> where you could pass it a language and a statement, and the\n",
    "<tt>LANGUAGECHECK</tt> program could determine if the statement is a valid statement in\n",
    "that language.&nbsp; In other words, the <tt>LANGUAGECHECK</tt> program would <i>accept</i> or <i>reject</i>\n",
    "the statement.&nbsp; For example:</p>\n",
    "<p><tt>LANGUAGECHECK(English, \"Mary had a little lamb.\") <b>⇒</b> Accept</tt><br>\n",
    "<tt>LANGUAGECHECK(JAVA,\"for (j=0;j&lt;100;j++) tot += j;\") <b>⇒</b> Accept</tt><br>\n",
    "<tt>LANGUAGECHECK(English, \"01010101100111010101\") <b>⇒</b> Reject</tt></p>\n",
    "<p>What about the following? What would <tt>LANGUAGECHECK</tt> return?</p>\n",
    "<p><tt>LANGUAGECHECK(English, \"Mary a lamb little had.\")</tt><br>\n",
    "<tt>LANGUAGECHECK(English, \"Lamb had a little Mary.\")</tt></p>\n",
    "<p>That would depend on how sophisticated our hypothetical <tt>LANGUAGECHECK</tt> program\n",
    "was: if the <tt>LANGUAGECHECK</tt> program was a simple spell checker, then it would\n",
    "probably accept them.&nbsp; One could argue that based on the <i>syntax</i> of these statements\n",
    "they should be accepted, but based on the <i>\n",
    "semantics</i> (the meaning) of the statements they should be rejected.&nbsp;This issue of syntax vs.\n",
    "semantics is pervasive throughout many areas of computer science: For example,\n",
    "your JAVA compiler will let you know if your JAVA program has a correct syntax (it\n",
    "compiles), but it cannot tell you if the program will execute the way you\n",
    "intended.&nbsp; The development and definition of formal languages will be explored in other\n",
    "computer science classes, but in this course, and in this lab specifically, we\n",
    "will explore <i>Regular Expressions</i> which have straightforward and well\n",
    "defined syntaxes that are very popular in pattern matching and syntax checking\n",
    "applications.</p>\n",
    "<p>Formally, a regular expression defines a unique set of strings.&nbsp; Given a regular expression and a string, we can\n",
    "check if that\n",
    "string is an element of the set defined by the regular expression.&nbsp; In\n",
    "other words, the regular expression will <i>accept </i>the string as a match or it will <i>reject</i>\n",
    "it.&nbsp; This is very similar in concept to the <tt>LANGUAGECHECK</tt> program we had before.&nbsp;\n",
    "For example, we could have a regular expression that defines the set of binary\n",
    "strings: all strings that contain no symbols other than 0s and 1s: {\"\", \"0\",\n",
    "\"1\", \"00\", \"01\", \"10\", and so on...}.&nbsp; We will call that language\n",
    "<tt>[01]*</tt>,\n",
    "and returning to our hypothetical <tt>LANGUAGECHECK</tt> program from above:</p>\n",
    "<p><tt>LANGUAGECHECK([01]*, \"10101111011\") <b>⇒</b> Accept</tt><br>\n",
    "<tt>LANGUAGECHECK([01]*, \"22021120221\") <b>⇒</b> Reject</tt></p>\n",
    "<p>As it turns out, <tt>[01]*</tt> is a valid regular expression that is equivalent to\n",
    "the set of all binary strings.&nbsp; In the following sections we well explore\n",
    "that syntax further.</p>\n",
    "<h2><a name=\"sec2\"></a>Section 2: The Cat in the Hat Rhymes with .*at&nbsp;\n",
    "(Pre-Lab)</h2>\n",
    "<p>In this section we will take a page from the book of Dr. Seuss and look for\n",
    "potential words that rhyme with cat.</p>\n",
    "<p>The period <tt>(.)</tt> symbol in a regular expression will match any\n",
    "individual character, so\n",
    "the following regular expression:</p>\n",
    "<p><tt>.at</tt></p>\n",
    "<p>means that the first character in the string can be <i>anything,</i> the\n",
    "second character <i>must</i> be an 'a', and the third character <i>must </i>be a\n",
    "'t', so it will accept the following strings:</p>\n",
    "<p><tt>aat,\n",
    "bat,\n",
    "cat,\n",
    "dat</tt></p>\n",
    "<p>and so on... but it will also accept strings such as:</p>\n",
    "<p><tt>7at,\n",
    "[at,\n",
    "@at</tt></p>\n",
    "<p>Our regular expression here is explicitly 3 characters long, so it\n",
    "will not accept:</p>\n",
    "<p><tt>phat,\n",
    "splat,\n",
    "at,\n",
    "aaaaaat,\n",
    "meerkat</tt></p>\n",
    "<p>In this lab we have provided exercise boxes that will allow you to\n",
    "create, edit and debug regular expressions.&nbsp; In the following box, you can\n",
    "change the regular expression (defaults to <tt>.at</tt>) as well as enter your own\n",
    "<i>test strings</i> to help you better understand how regular expressions work.&nbsp;\n",
    "<i><b>As you change your regular expression and test strings, the results will update to match. If you want to force the results to update, just hit the enter key.</b></i>&nbsp; Try adding dog and rat to\n",
    "the list of test strings.</p>\n",
    "<script type=\"text/javascript\">\n",
    "  InsertRegExBox(\n",
    "    'Your First Regular Expression: .at',\n",
    "    '.at',\n",
    "    MATCHFULLTEXT,\n",
    "    'aat\\nbat\\ncat\\ndat\\n7at\\n[at\\n@at\\nphat\\nsplat\\nat\\naaaaaat\\nmeerkat',\n",
    "    15,\n",
    "    EMPTYARRAY,'EMPTYARRAY',EMPTYARRAY,'EMPTYARRAY'\n",
    "  );\n",
    "</script>\n"
   ]
  },
  {
   "cell_type": "code",
   "execution_count": 1,
   "metadata": {
    "pycharm": {
     "is_executing": false
    }
   },
   "outputs": [],
   "source": [
    "import re\n",
    "from testRegex import test_regex\n",
    "from IPython.display import display, Markdown"
   ]
  },
  {
   "cell_type": "code",
   "execution_count": 2,
   "metadata": {
    "pycharm": {
     "is_executing": false
    }
   },
   "outputs": [
    {
     "data": {
      "text/markdown": [
       "<h2>Test Strings:</h2>\n",
       "<font color = green >ACCEPT: aat</font><br/><font color = green >ACCEPT: bat</font><br/><font color = green >ACCEPT: cat</font><br/><font color = green >ACCEPT: dat</font><br/><font color = green >ACCEPT: 7at</font><br/><font color = green >ACCEPT: [at</font><br/><font color = green >ACCEPT: @at</font><br/><font color = red>REJECT: phat</font><br/><font color = red>REJECT: splat</font><br/><font color = red>REJECT: at</font><br/><font color = red>REJECT: aaaaaat</font><br/><font color = red>REJECT: meerkat</font>"
      ],
      "text/plain": [
       "<IPython.core.display.Markdown object>"
      ]
     },
     "metadata": {},
     "output_type": "display_data"
    }
   ],
   "source": [
    "# Your First Regular Expression: .at\n",
    "answer = '.at'\n",
    "# Test Strings:\n",
    "testStrings=['aat', 'bat', 'cat', 'dat', '7at', '[at', '@at', 'phat', 'splat', 'at', 'aaaaaat', 'meerkat']\n",
    "shouldAccept=[]\n",
    "shouldReject=[]\n",
    "display(Markdown(test_regex(shouldAccept,shouldReject,testStrings,answer)))"
   ]
  },
  {
   "cell_type": "markdown",
   "metadata": {},
   "source": [
    "<p>If we want a regular expression that will accept <i>any</i> string that ends\n",
    "with at, we can use the regular expression: </p>\n",
    "<p><tt>.*at</tt></p>\n",
    "<p>Try changing the above regular expression from <tt>.at</tt> to <tt>.*at</tt></p>\n",
    "<p>The asterisk or star<tt> (*)</tt> symbol means the previous item can\n",
    "appear 0 or many times.&nbsp; For example, examine the following regular expression:</p>\n",
    "<script type=\"text/javascript\">\n",
    "  InsertRegExBox(\n",
    "    'The *, +, ? and {} Symbols',\n",
    "    'ca*t',\n",
    "    MATCHFULLTEXT,\n",
    "    'ct\\ncat\\ncaat\\ncaaat\\ncaaaat\\ncaaaaat\\ncaaaaaaaaaaat',\n",
    "    7,\n",
    "    EMPTYARRAY,'EMPTYARRAY',EMPTYARRAY,'EMPTYARRAY'\n",
    "  );\n",
    "</script>\n"
   ]
  },
  {
   "cell_type": "code",
   "execution_count": 3,
   "metadata": {
    "pycharm": {
     "is_executing": false
    }
   },
   "outputs": [
    {
     "data": {
      "text/markdown": [
       "<h2>Test Strings:</h2>\n",
       "<font color = green >ACCEPT: ct</font><br/><font color = green >ACCEPT: cat</font><br/><font color = green >ACCEPT: caat</font><br/><font color = green >ACCEPT: caaat</font><br/><font color = green >ACCEPT: caaaat</font><br/><font color = green >ACCEPT: caaaaat</font><br/><font color = green >ACCEPT: caaaaaaaaaaat</font>"
      ],
      "text/plain": [
       "<IPython.core.display.Markdown object>"
      ]
     },
     "metadata": {},
     "output_type": "display_data"
    }
   ],
   "source": [
    "# The *, +, ? and {} Symbols\n",
    "answer = 'ca*t'\n",
    "# Test Strings:\n",
    "testStrings=['ct', 'cat', 'caat', 'caaat', 'caaaat', 'caaaaat', 'caaaaaaaaaaat']\n",
    "shouldAccept=[]\n",
    "shouldReject=[]\n",
    "display(Markdown(test_regex(shouldAccept,shouldReject,testStrings,answer)))"
   ]
  },
  {
   "cell_type": "markdown",
   "metadata": {},
   "source": [
    "<p>The plus <tt>(+)</tt> symbol is very similar to the asterisk <tt>(*)</tt>,\n",
    "except it means the previous item <i>must</i> appear at <i>least</i> once.&nbsp; So <tt>ca+t</tt> will match\n",
    "everything <tt>ca*t</tt> matches except for <tt>ct</tt>.&nbsp; The regular expressions <tt>ca+t</tt>\n",
    "and <tt>caa*t</tt>\n",
    "are\n",
    "equivalent.&nbsp; Try them both in the previous example.&nbsp; There are often\n",
    "<i>many</i> different ways of writing\n",
    "equivalent regular expressions.</p>\n",
    "<p>The question mark <tt>(?)</tt> symbol means the previous item can appear exactly 0\n",
    "or 1 times.&nbsp; So <tt>ca?t</tt> will match only <tt>ct</tt> and <tt>cat</tt>.&nbsp;\n",
    "Try this expression above.</p>\n",
    "<p>The final method for specifying the quantity of an item is to use brace\n",
    "(curly) <tt>{}</tt> brackets that can be used in one of three forms: <tt>{exact} {min,}</tt> or <tt>{min,max}</tt> where you can specify an\n",
    "exact number of appearances, a minimum number of appearances, or a range of\n",
    "appearances between min and max.&nbsp; So <tt>ca{2,4}t</tt> will match <tt>caat,\n",
    "caaat</tt> and <tt>caaaat</tt> and <tt>ca{0,3}t</tt> will match from <tt>ct</tt> through\n",
    "to <tt>caaat</tt>.&nbsp; You can see that <tt>*</tt> is equivalent to <tt>{0,}</tt>, while <tt>\n",
    "+</tt>\n",
    "is equivalent to <tt>{1,}</tt>, and <tt>?</tt> is equivalent to <tt>{0,1}</tt>.&nbsp; Try\n",
    "experimenting with different configurations of brace brackets above.&nbsp;\n",
    "Despite their versatility, in practice they are not used very often in regular\n",
    "expressions.</p>\n",
    "<p>Parentheses (round brackets) <tt>()</tt> can be used to group items together\n",
    "and their placement in regular expressions is very important.&nbsp;\n",
    "As you might expect, <tt>cat+</tt> , <tt>(cat)+</tt> and <tt>(ca)+t</tt> are all very different.&nbsp; Try different combinations of\n",
    "parentheses and the <tt>*</tt> symbol to accept the following test cases:</p>\n",
    "<script type=\"text/javascript\">\n",
    "  InsertRegExBox(\n",
    "    '(Parentheses) Placement is Particular',\n",
    "    'cat+',\n",
    "    MATCHFULLTEXT,\n",
    "    'cat\\ncatt\\ncattt\\ncatcat\\ncatcatcat\\ncatat\\ncatatat\\ncacat',\n",
    "    10,\n",
    "    EMPTYARRAY,'EMPTYARRAY',EMPTYARRAY,'EMPTYARRAY'\n",
    "  );\n",
    "</script>\n"
   ]
  },
  {
   "cell_type": "code",
   "execution_count": 4,
   "metadata": {
    "pycharm": {
     "is_executing": false
    }
   },
   "outputs": [
    {
     "data": {
      "text/markdown": [
       "<h2>Test Strings:</h2>\n",
       "<font color = green >ACCEPT: cat</font><br/><font color = green >ACCEPT: catt</font><br/><font color = green >ACCEPT: cattt</font><br/><font color = red>REJECT: catcat</font><br/><font color = red>REJECT: catcatcat</font><br/><font color = red>REJECT: catat</font><br/><font color = red>REJECT: catatat</font><br/><font color = red>REJECT: cacat</font>"
      ],
      "text/plain": [
       "<IPython.core.display.Markdown object>"
      ]
     },
     "metadata": {},
     "output_type": "display_data"
    }
   ],
   "source": [
    "# (Parentheses) Placement is Particular\n",
    "answer = 'cat+'\n",
    "# Test Strings:\n",
    "testStrings=['cat', 'catt', 'cattt', 'catcat', 'catcatcat', 'catat', 'catatat', 'cacat']\n",
    "shouldAccept=[]\n",
    "shouldReject=[]\n",
    "display(Markdown(test_regex(shouldAccept,shouldReject,testStrings,answer)))"
   ]
  },
  {
   "cell_type": "markdown",
   "metadata": {},
   "source": [
    "<p>The pipe <tt>(|)</tt>\n",
    "symbol is for alternation, although it is most commonly known as an OR.&nbsp; Examine the following expression:</p>\n",
    "<script type=\"text/javascript\">\n",
    "  InsertRegExBox(\n",
    "    'The Pipe (|) Symbol',\n",
    "    '(b|c|r|meerk)at',\n",
    "    MATCHFULLTEXT,\n",
    "    'bat\\ncat\\nrat\\nmeerkat\\nhat',\n",
    "    5,\n",
    "    EMPTYARRAY,'EMPTYARRAY',EMPTYARRAY,'EMPTYARRAY'\n",
    "  );\n",
    "</script>\n"
   ]
  },
  {
   "cell_type": "code",
   "execution_count": 5,
   "metadata": {
    "pycharm": {
     "is_executing": false
    }
   },
   "outputs": [
    {
     "data": {
      "text/markdown": [
       "<h2>Test Strings:</h2>\n",
       "<font color = green >ACCEPT: bat</font><br/><font color = green >ACCEPT: cat</font><br/><font color = green >ACCEPT: rat</font><br/><font color = green >ACCEPT: meerkat</font><br/><font color = red>REJECT: hat</font>"
      ],
      "text/plain": [
       "<IPython.core.display.Markdown object>"
      ]
     },
     "metadata": {},
     "output_type": "display_data"
    }
   ],
   "source": [
    "# The Pipe (|) Symbol\n",
    "answer = '(b|c|r|meerk)at'\n",
    "# Test Strings:\n",
    "testStrings=['bat', 'cat', 'rat', 'meerkat', 'hat']\n",
    "shouldAccept=[]\n",
    "shouldReject=[]\n",
    "display(Markdown(test_regex(shouldAccept,shouldReject,testStrings,answer)))"
   ]
  },
  {
   "cell_type": "markdown",
   "metadata": {},
   "source": [
    "<p>This OR is not an <i>inclusive </i>OR as we have studied before, but is\n",
    "instead more similar to an <i>exclusive</i> or operator in that it will match\n",
    "only one of the listed items.&nbsp; If all the piped items are single characters, you can use a more shorthand notation\n",
    "that omits the pipes and uses square brackets:</p>\n",
    "<script type=\"text/javascript\">\n",
    "  InsertRegExBox(\n",
    "    'Square Brackets: [abcd], [b-d], [^cd]',\n",
    "    '[abcd]at',\n",
    "    MATCHFULLTEXT,\n",
    "    'aat\\nbat\\ncat\\ndat\\neat\\nfat',\n",
    "    7,\n",
    "    EMPTYARRAY,'EMPTYARRAY',EMPTYARRAY,'EMPTYARRAY'\n",
    "  );\n",
    "</script>\n"
   ]
  },
  {
   "cell_type": "code",
   "execution_count": 6,
   "metadata": {
    "pycharm": {
     "is_executing": false
    }
   },
   "outputs": [
    {
     "data": {
      "text/markdown": [
       "<h2>Test Strings:</h2>\n",
       "<font color = green >ACCEPT: aat</font><br/><font color = green >ACCEPT: bat</font><br/><font color = green >ACCEPT: cat</font><br/><font color = green >ACCEPT: dat</font><br/><font color = red>REJECT: eat</font><br/><font color = red>REJECT: fat</font>"
      ],
      "text/plain": [
       "<IPython.core.display.Markdown object>"
      ]
     },
     "metadata": {},
     "output_type": "display_data"
    }
   ],
   "source": [
    "# Square Brackets: [abcd], [b-d], [^cd]\n",
    "answer = '[abcd]at'\n",
    "# Test Strings:\n",
    "testStrings=['aat', 'bat', 'cat', 'dat', 'eat', 'fat']\n",
    "shouldAccept=[]\n",
    "shouldReject=[]\n",
    "display(Markdown(test_regex(shouldAccept,shouldReject,testStrings,answer)))"
   ]
  },
  {
   "cell_type": "markdown",
   "metadata": {},
   "source": [
    "<p>You can specify a range of characters within square brackets <tt>[]</tt>:  Try <tt>[b-d]</tt> in the above example.</p>\n",
    "<p>You can also <i>exclude</i> characters with the caret <tt>(^)</tt> symbol at the start of a section of square brackets. Try\n",
    "<tt>[^cd]</tt> in the above example.</p>\n",
    "<p>We have seen a wide variety of special symbols such as <tt>+</tt>, and\n",
    "<tt>*</tt>\n",
    "and you may wish to match those symbols themselves in a regular expression.&nbsp;\n",
    "To match special characters in a regular expression precede the special\n",
    "characters with a backslash <tt>(\\)</tt>.&nbsp; For example, to match the string <tt>+*</tt> you would use\n",
    "the regular expression <tt>\\+\\*</tt>.&nbsp; See the example below for some special\n",
    "characters:</p>\n",
    "<script type=\"text/javascript\">\n",
    "\n",
    "  InsertRegExBox(\n",
    "    'Special Characters',\n",
    "    '[\\\\.\\\\*\\\\?\\+\\\\\\\\\\\\{\\\\}\\\\(\\\\)\\\\[\\\\]\\\\^\\\\\\$]*',\n",
    "    MATCHFULLTEXT,\n",
    "    '.\\n..\\n+++***+++\\n.*?+\\\\{}()[]^\\$',\n",
    "    5,\n",
    "    EMPTYARRAY,'EMPTYARRAY',EMPTYARRAY,'EMPTYARRAY'\n",
    "  );\n",
    "\n",
    "</script>\n"
   ]
  },
  {
   "cell_type": "code",
   "execution_count": 7,
   "metadata": {
    "pycharm": {
     "is_executing": false
    }
   },
   "outputs": [
    {
     "data": {
      "text/markdown": [
       "<h2>Test Strings:</h2>\n",
       "<font color = green >ACCEPT: .</font><br/><font color = green >ACCEPT: ..</font><br/><font color = green >ACCEPT: +++***+++</font><br/><font color = green >ACCEPT: .*?+\\{}()[]^\\$</font>"
      ],
      "text/plain": [
       "<IPython.core.display.Markdown object>"
      ]
     },
     "metadata": {},
     "output_type": "display_data"
    }
   ],
   "source": [
    "# Special Characters\n",
    "answer = '[\\.\\*\\?+\\\\\\{\\}\\(\\)\\[\\]\\^\\$]*'\n",
    "# Test Strings:\n",
    "testStrings=['.', '..', '+++***+++', '.*?+\\\\{}()[]^$']\n",
    "shouldAccept=[]\n",
    "shouldReject=[]\n",
    "display(Markdown(test_regex(shouldAccept,shouldReject,testStrings,answer)))"
   ]
  },
  {
   "cell_type": "markdown",
   "metadata": {},
   "source": [
    "<p>You have now seen all of the essential elements required to construct regular\n",
    "expressions.&nbsp; With the combination of <tt>*,+,?,{},(),|,[],[^]</tt> you can create a vast number of interesting and useful regular expressions.</p>\n",
    "<h2><a name=\"sec3\"></a>Section 3: Programming with Regular Expressions\n",
    "(Optional)</h2>\n",
    "<p>Tools for using regular expressions are available in many languages. For\n",
    "example, In JAVA you can use the library java.util.regex. Regular expressions\n",
    "are so important in some text processing languages that they have been incorporated\n",
    "<i>directly</i> into the language specification.</p>\n",
    "<p>In PERL, you can determine if a\n",
    "regular expression would accept a string by using the special <tt>=~</tt> operator, so\n",
    "for example the statement: </p>\n",
    "<p><tt>if (\"cat\" =~ /^.at\\$/) </tt> </p>\n",
    "<p>would return true. In JavaScript, you could use the statement:</p>\n",
    "<p><tt>if (\"cat\".match(RegExp(\"^.at\\$\")))</tt></p>\n",
    "<p>In fact, try opening a new web browser, and pasting in the address bar:\n",
    "<tt>javascript:alert(\"cat\".match(RegExp(\"^.at\\$\"))?true:false)</tt></p>\n",
    "<p>The <tt>^</tt> and the <tt>\\$</tt> surrounding the regular expression are there to identify the\n",
    "start and the end of the string: Both PERL and JavaScript add a theoretical .*\n",
    "at the start and end of the regular expression unless the ^ and \\$ are present.&nbsp;\n",
    "In this lab, the ^ and \\$ are added automatically.</p>\n",
    "<p>Regular expression implementations such as those used in JavaScript have some\n",
    "advanced features such as sub-expressions that can be captured and re-used later in\n",
    "the expression, non-consumable matching, greedy and non-greedy (lazy) matching,\n",
    "and look-ahead matching.&nbsp; Those advanced features will <i><b>not</b></i> be permitted in this course or this lab.</p>\n",
    "<p>Regular expressions are used in the \"real\" programming world in many\n",
    "applications, including:</p>\n",
    "<ul>\n",
    "\t<li><b>Web form validation</b>: Regular Expressions are used for validating\n",
    "\tphone numbers, postal codes, etc. on many websites.</li>\n",
    "\t<li><b>Advanced searching: </b>Applications such as the unix <tt>grep</tt>\n",
    "\tutility, Google <a href=\"http://www.google.com/codesearch\">Codesearch</a>,\n",
    "\tand many popular text editors allow for searching regular expressions such as\n",
    "\tcolou?r.</li>\n",
    "\t<li><b>Bioinformatics applications:</b> Applications such as finding motifs\n",
    "\tand sequence analysis can benefit from regular expressions.</li>\n",
    "\t<li><b>Email and spam filtering:</b> Many automated email filters can be\n",
    "\tconfigured with regular expressions.</li>\n",
    "\t<li><b>Automated web services and spiders:</b> Many Internet tasks involve\n",
    "\ttaking data from one source and reformatting it for another, a task made\n",
    "\teasier by regular expressions.</li>\n",
    "</ul>\n",
    "<h2><a name=\"sec4\"></a>Section 4: Regular Expression Reference (Pre-Lab)</h2>\n",
    "<p>The following reference table has been provided for your convenience:</p>\n",
    "<table id=\"table1\" cellspacing=\"0\" cellpadding=\"3\" border=\"1\">\n",
    "\t<tbody><tr class=\"tablehdr\">\n",
    "\t\t<td>Character(s)</td>\n",
    "\t\t<td>Description</td>\n",
    "\t\t<td>Example</td>\n",
    "\t</tr>\n",
    "\t<tr>\n",
    "\t\t<td>\n",
    "\t\t<tt>.</tt></td>\n",
    "\t\t<td>Matches any character</td>\n",
    "\t\t<td><tt>.at ={\"aat\", \"bat\", ...}</tt></td>\n",
    "\t</tr>\n",
    "\t<tr>\n",
    "\t\t<td>\n",
    "\t\t<tt>[ ]</tt></td>\n",
    "\t\t<td>Matches one character from those listed</td>\n",
    "\t\t<td><tt>[cbr]at = {\"cat\", \"bat\", \"rat\"}</tt></td>\n",
    "\t</tr>\n",
    "\t<tr>\n",
    "\t\t<td>\n",
    "\t\t<tt>[ - ]</tt></td>\n",
    "\t\t<td>Matches one character from the range of characters listed</td>\n",
    "\t\t<td><tt>[a-c]at = {\"aat\", \"bat\", \"cat\"}</tt></td>\n",
    "\t</tr>\n",
    "\t<tr>\n",
    "\t\t<td>\n",
    "\t\t<tt>[^ ]</tt></td>\n",
    "\t\t<td>Matches one character from those not listed</td>\n",
    "\t\t<td><tt>[^b-d]at = {\"aat\",\"eat\", \"fat\",...}</tt></td>\n",
    "\t</tr>\n",
    "\t<tr>\n",
    "\t\t<td>\n",
    "\t\t<tt>|</tt></td>\n",
    "\t\t<td>Matches one item from those separated by pipes |</td>\n",
    "\t\t<td><tt>(ph|meerk|r)at = {\"phat\",\"meerkat\",\"rat\"}</tt></td>\n",
    "\t</tr>\n",
    "\t<tr>\n",
    "\t\t<td>\n",
    "\t\t<tt>*</tt></td>\n",
    "\t\t<td>Repeat the previous item 0 or many times</td>\n",
    "\t\t<td><tt>ca*t = {\"ct\", \"cat\", \"caat\", ...}</tt></td>\n",
    "\t</tr>\n",
    "\t<tr>\n",
    "\t\t<td>\n",
    "\t\t<tt>+</tt></td>\n",
    "\t\t<td>Repeat the previous item 1 or many times</td>\n",
    "\t\t<td><tt>ca+t = {\"cat\", \"caat\", ...}</tt></td>\n",
    "\t</tr>\n",
    "\t<tr>\n",
    "\t\t<td>\n",
    "\t\t<tt>?</tt></td>\n",
    "\t\t<td>Repeat the previous item 0 or 1 time</td>\n",
    "\t\t<td><tt>ca?t = {\"ct\",\"cat\"}</tt></td>\n",
    "\t</tr>\n",
    "\t<tr>\n",
    "\t\t<td>\n",
    "\t\t<tt>{#}</tt></td>\n",
    "\t\t<td>Repeat the previous item an exact number of times</td>\n",
    "\t\t<td><tt>ca{3}t = {\"caaat\"}</tt></td>\n",
    "\t</tr>\n",
    "\t<tr>\n",
    "\t\t<td>\n",
    "\t\t<tt>{#,}</tt></td>\n",
    "\t\t<td>Repeat the previous item a min. number of times</td>\n",
    "\t\t<td><tt>ca{2,}t = {\"caat\",\"caaat\",...}</tt></td>\n",
    "\t</tr>\n",
    "\t<tr>\n",
    "\t\t<td>\n",
    "\t\t<tt>{0,#}</tt></td>\n",
    "\t\t<td>Repeat the previous item a max. number of times</td>\n",
    "\t\t<td><tt>ca{,3}t = {\"ct\",\"cat\",\"caat\",\"caaat\"}</tt></td>\n",
    "\t</tr>\n",
    "\t<tr>\n",
    "\t\t<td>\n",
    "\t\t<tt>{#,#}</tt></td>\n",
    "\t\t<td>Repeat the previous item between a min. and max. number of times</td>\n",
    "\t\t<td><tt>ca{1,3}t = {\"cat\",\"caat\",\"caaat\"}</tt></td>\n",
    "\t</tr>\n",
    "\t</tbody></table>\n",
    "<p>In addition, there are a few special character codes that come in handy:</p>\n",
    "<table id=\"table2\" cellspacing=\"0\" cellpadding=\"3\" border=\"1\">\n",
    "\t<tbody><tr class=\"tablehdr\">\n",
    "\t\t<td>Symbol</td>\n",
    "\t\t<td>Description</td>\n",
    "\t</tr>\n",
    "\t<tr>\n",
    "\t\t<td>\n",
    "\t\t<tt>\\d</tt></td>\n",
    "\t\t<td>Equivalent to <tt>[0-9]</tt>: Matches any digit</td>\n",
    "\t</tr>\n",
    "\t<tr>\n",
    "\t\t<td>\n",
    "\t\t<tt>\\D</tt></td>\n",
    "\t\t<td>Equivalent to <tt>[^0-9]</tt>:&nbsp; Matches any non-digit</td>\n",
    "\t</tr>\n",
    "\t<tr>\n",
    "\t\t<td>\n",
    "\t\t<tt>\\s</tt></td>\n",
    "\t\t<td>Matches white space character</td>\n",
    "\t</tr>\n",
    "\t<tr>\n",
    "\t\t<td>\n",
    "\t\t<tt>\\S</tt></td>\n",
    "\t\t<td>Matches a non-white space character</td>\n",
    "\t</tr>\n",
    "\t<tr>\n",
    "\t\t<td>\n",
    "\t\t<tt>\\w</tt></td>\n",
    "\t\t<td>Equivalent to <tt>[a-zA-Z0-9_]</tt>: Matches a \"word\" character</td>\n",
    "\t</tr>\n",
    "\t<tr>\n",
    "\t\t<td>\n",
    "\t\t<tt>\\W</tt></td>\n",
    "\t\t<td>Equivalent to <tt>[^a-zA-Z0-9_]</tt>: Matches a non-word character</td>\n",
    "\t</tr>\n",
    "\t</tbody></table>\n",
    "<p>&nbsp;</p>\n",
    "<h2><a name=\"sec5\"></a>Section 5: Pre-Lab Exercises (3 marks)</h2>\n",
    "<p>Poorly formatted regular expressions can crash your browser, so be sure to save your prelab work \n",
    "regularly, and have your TA check your results at the beginning of lab to get your marks.</p>\n",
    "<p>For many of these exercises, we have provided a <i>test suite</i> of strings\n",
    "that will help you to test and debug your regular expressions.&nbsp; For the\n",
    "pre-lab (Section 5) exercises, if some of your regular expressions do not pass all\n",
    "of the test suite examples, you can move on and ask for help during the lab.</p>\n",
    "<p><b>Exercise 1: </b>Develop a regular expression for any binary string.</p>\n",
    "<script type=\"text/javascript\">\n",
    "\n",
    "  var aMatchSuccessBS1 = new Array('0','1','00','10','111010101010111');\n",
    "  var aMatchFailBS1 = new Array('cat','123','he110, w0r1d','011023','201','f10');\n",
    "\n",
    "  InsertRegExBox(\n",
    "    'Exercise 1',\n",
    "    '',\n",
    "    MATCHFULLTEXT,\n",
    "    '',\n",
    "    MATCHLENDEFAULT,\n",
    "    aMatchSuccessBS1,\n",
    "    'aMatchSuccessBS1',\n",
    "    aMatchFailBS1,\n",
    "    'aMatchFailBS1'\n",
    "  );\n",
    "</script>\n"
   ]
  },
  {
   "cell_type": "code",
   "execution_count": 8,
   "metadata": {
    "pycharm": {
     "is_executing": false
    }
   },
   "outputs": [
    {
     "data": {
      "text/markdown": [
       "<h2>Test Strings:</h2>\n",
       "\n",
       "<h2>Test Suite: (Should be ACCEPTED)</h2>\n",
       "<font color = green >ACCEPT: 0</font><br/><font color = green >ACCEPT: 1</font><br/><font color = green >ACCEPT: 00</font><br/><font color = green >ACCEPT: 10</font><br/><font color = green >ACCEPT: 111010101010111</font>\n",
       "<h2>Test Suite: (Should be REJECTED)</h2>\n",
       "<font color = red>REJECT: cat</font><br/><font color = red>REJECT: 123</font><br/><font color = red>REJECT: he110, w0r1d</font><br/><font color = red>REJECT: 011023</font><br/><font color = red>REJECT: 201</font><br/><font color = red>REJECT: f10</font>"
      ],
      "text/plain": [
       "<IPython.core.display.Markdown object>"
      ]
     },
     "metadata": {},
     "output_type": "display_data"
    }
   ],
   "source": [
    "# Exercise 1\n",
    "answer = '[01]+'\n",
    "# Test Strings:\n",
    "testStrings=[]\n",
    "shouldAccept=['0', '1', '00', '10', '111010101010111']\n",
    "shouldReject=['cat', '123', 'he110, w0r1d', '011023', '201', 'f10']\n",
    "display(Markdown(test_regex(shouldAccept,shouldReject,testStrings,answer)))"
   ]
  },
  {
   "cell_type": "markdown",
   "metadata": {},
   "source": [
    "<p><b>Exercise 2: </b>Develop a regular expression for any binary string that represents an unsigned integer that is ODD:</p>\n",
    "<script type=\"text/javascript\">\n",
    "\n",
    "  // var aMatchSuccessBS3 = new Array('0','10','1110','010','00011000110110');\n",
    "  // var aMatchFailBS3 = new Array('1','011','0101','0001101','10210','cat','123456');\n",
    "\n",
    " var aMatchSuccessBS3 = new Array('1', '101', '10011', '10101', '11011', '111111', '1111111');\n",
    " var aMatchFailBS3 = new Array('0','10','100','110','10010','cat','ball','102');\n",
    "  InsertRegExBox(\n",
    "    'Exercise 2',\n",
    "    '',\n",
    "    MATCHFULLTEXT,\n",
    "    '',\n",
    "    MATCHLENDEFAULT,\n",
    "    aMatchSuccessBS3,\n",
    "    'aMatchSuccessBS3',\n",
    "    aMatchFailBS3,\n",
    "    'aMatchFailBS3'\n",
    "  );\n",
    "</script>\n"
   ]
  },
  {
   "cell_type": "code",
   "execution_count": 9,
   "metadata": {
    "pycharm": {
     "is_executing": false
    }
   },
   "outputs": [
    {
     "data": {
      "text/markdown": [
       "<h2>Test Strings:</h2>\n",
       "\n",
       "<h2>Test Suite: (Should be ACCEPTED)</h2>\n",
       "<font color = green >ACCEPT: 1</font><br/><font color = green >ACCEPT: 101</font><br/><font color = green >ACCEPT: 10011</font><br/><font color = green >ACCEPT: 10101</font><br/><font color = green >ACCEPT: 11011</font><br/><font color = green >ACCEPT: 111111</font><br/><font color = green >ACCEPT: 1111111</font>\n",
       "<h2>Test Suite: (Should be REJECTED)</h2>\n",
       "<font color = red>REJECT: 0</font><br/><font color = red>REJECT: 10</font><br/><font color = red>REJECT: 100</font><br/><font color = red>REJECT: 110</font><br/><font color = red>REJECT: 10010</font><br/><font color = red>REJECT: cat</font><br/><font color = red>REJECT: ball</font><br/><font color = red>REJECT: 102</font>"
      ],
      "text/plain": [
       "<IPython.core.display.Markdown object>"
      ]
     },
     "metadata": {},
     "output_type": "display_data"
    }
   ],
   "source": [
    "# Exercise 2\n",
    "answer = '[01]*1'\n",
    "# Test Strings:\n",
    "testStrings=[]\n",
    "shouldAccept=['1', '101', '10011', '10101', '11011', '111111', '1111111']\n",
    "shouldReject=['0', '10', '100', '110', '10010', 'cat', 'ball', '102']\n",
    "display(Markdown(test_regex(shouldAccept,shouldReject,testStrings,answer)))"
   ]
  },
  {
   "cell_type": "markdown",
   "metadata": {},
   "source": [
    "<p><b>Exercise 3: </b>Develop a regular expression for any binary string of EVEN length:\n",
    "<i>(Hint: remember the (cat)+ example?)</i></p>\n",
    "<script type=\"text/javascript\">\n",
    "\n",
    "  var aMatchSuccessBS2 = new Array('00','01','1010','0001','0001101100011011');\n",
    "  var aMatchFailBS2 = new Array('0','1','111','010','0001101','101030','cat','123456');\n",
    "\n",
    "  InsertRegExBox(\n",
    "    'Exercise 3',\n",
    "    '',\n",
    "    MATCHFULLTEXT,\n",
    "    '',\n",
    "    MATCHLENDEFAULT,\n",
    "    aMatchSuccessBS2,\n",
    "    'aMatchSuccessBS2',\n",
    "    aMatchFailBS2,\n",
    "    'aMatchFailBS2'\n",
    "  );\n",
    "</script>\n"
   ]
  },
  {
   "cell_type": "code",
   "execution_count": 10,
   "metadata": {
    "pycharm": {
     "is_executing": false
    }
   },
   "outputs": [
    {
     "data": {
      "text/markdown": [
       "<h2>Test Strings:</h2>\n",
       "\n",
       "<h2>Test Suite: (Should be ACCEPTED)</h2>\n",
       "<font color = green >ACCEPT: 00</font><br/><font color = green >ACCEPT: 01</font><br/><font color = green >ACCEPT: 1010</font><br/><font color = green >ACCEPT: 0001</font><br/><font color = green >ACCEPT: 0001101100011011</font>\n",
       "<h2>Test Suite: (Should be REJECTED)</h2>\n",
       "<font color = red>REJECT: 0</font><br/><font color = red>REJECT: 1</font><br/><font color = red>REJECT: 111</font><br/><font color = red>REJECT: 010</font><br/><font color = red>REJECT: 0001101</font><br/><font color = red>REJECT: 101030</font><br/><font color = red>REJECT: cat</font><br/><font color = red>REJECT: 123456</font>"
      ],
      "text/plain": [
       "<IPython.core.display.Markdown object>"
      ]
     },
     "metadata": {},
     "output_type": "display_data"
    }
   ],
   "source": [
    "# Exercise 3\n",
    "answer = '([01]{2})+'\n",
    "# Test Strings:\n",
    "testStrings=[]\n",
    "shouldAccept=['00', '01', '1010', '0001', '0001101100011011']\n",
    "shouldReject=['0', '1', '111', '010', '0001101', '101030', 'cat', '123456']\n",
    "display(Markdown(test_regex(shouldAccept,shouldReject,testStrings,answer)))"
   ]
  },
  {
   "cell_type": "markdown",
   "metadata": {},
   "source": [
    "<p><b>Exercise 4: </b>Develop a regular expression for any binary string that\n",
    "contains the pattern 0011 OR the pattern 1111:</p>\n",
    "<script type=\"text/javascript\">\n",
    "\n",
    "  var aMatchSuccessBS4 = new Array('0011','1111','0011110000','1111000', '0011111', '11110011');\n",
    "  var aMatchFailBS4 = new Array('0','1','0101','1010','11000100010','cat','123456', '50110', '1001', '1111g', 'd10011');\n",
    "\n",
    "  InsertRegExBox(\n",
    "    'Exercise 4',\n",
    "    '',\n",
    "    MATCHFULLTEXT,\n",
    "    '',\n",
    "    MATCHLENDEFAULT,\n",
    "    aMatchSuccessBS4,\n",
    "    'aMatchSuccessBS4',\n",
    "    aMatchFailBS4,\n",
    "    'aMatchFailBS4'\n",
    "  );\n",
    "</script>\n"
   ]
  },
  {
   "cell_type": "code",
   "execution_count": 11,
   "metadata": {
    "pycharm": {
     "is_executing": false
    }
   },
   "outputs": [
    {
     "data": {
      "text/markdown": [
       "<h2>Test Strings:</h2>\n",
       "\n",
       "<h2>Test Suite: (Should be ACCEPTED)</h2>\n",
       "<font color = green >ACCEPT: 0011</font><br/><font color = green >ACCEPT: 1111</font><br/><font color = green >ACCEPT: 0011110000</font><br/><font color = green >ACCEPT: 1111000</font><br/><font color = green >ACCEPT: 0011111</font><br/><font color = green >ACCEPT: 11110011</font>\n",
       "<h2>Test Suite: (Should be REJECTED)</h2>\n",
       "<font color = red>REJECT: 0</font><br/><font color = red>REJECT: 1</font><br/><font color = red>REJECT: 0101</font><br/><font color = red>REJECT: 1010</font><br/><font color = red>REJECT: 11000100010</font><br/><font color = red>REJECT: cat</font><br/><font color = red>REJECT: 123456</font><br/><font color = red>REJECT: 50110</font><br/><font color = red>REJECT: 1001</font><br/><font color = red>REJECT: 1111g</font><br/><font color = red>REJECT: d10011</font>"
      ],
      "text/plain": [
       "<IPython.core.display.Markdown object>"
      ]
     },
     "metadata": {},
     "output_type": "display_data"
    }
   ],
   "source": [
    "# Exercise 4\n",
    "answer = '[01]*(0011|1111)+[01]*'\n",
    "# Test Strings:\n",
    "testStrings=[]\n",
    "shouldAccept=['0011', '1111', '0011110000', '1111000', '0011111', '11110011']\n",
    "shouldReject=['0', '1', '0101', '1010', '11000100010', 'cat', '123456', '50110', '1001', '1111g', 'd10011']\n",
    "display(Markdown(test_regex(shouldAccept,shouldReject,testStrings,answer)))"
   ]
  },
  {
   "cell_type": "markdown",
   "metadata": {},
   "source": [
    "<p><b>Exercise 5: </b>Develop a regular expression for any binary string that\n",
    "contains the pattern 1010 AND the pattern 1001: <i>(Hint: There are 4 cases, not\n",
    "2)</i></p>\n",
    "<script type=\"text/javascript\">\n",
    "\n",
    "  var aMatchSuccessBS5 = new Array('010101001','000110010101000', '101001', '11111100101000','00010101001');\n",
    "  var aMatchFailBS5 = new Array('0','1','0110','1001','01101','10010','1100010001110','cat','123456', '3011001', '1001107', '1111010', '00001001');\n",
    "\n",
    "  InsertRegExBox(\n",
    "    'Exercise 5',\n",
    "    '',\n",
    "    MATCHFULLTEXT,\n",
    "    '',\n",
    "    MATCHLENDEFAULT,\n",
    "    aMatchSuccessBS5,\n",
    "    'aMatchSuccessBS5',\n",
    "    aMatchFailBS5,\n",
    "    'aMatchFailBS5'\n",
    "  );\n",
    "</script>\n"
   ]
  },
  {
   "cell_type": "code",
   "execution_count": 12,
   "metadata": {
    "pycharm": {
     "is_executing": false
    }
   },
   "outputs": [
    {
     "data": {
      "text/markdown": [
       "<h2>Test Strings:</h2>\n",
       "\n",
       "<h2>Test Suite: (Should be ACCEPTED)</h2>\n",
       "<font color = green >ACCEPT: 010101001</font><br/><font color = green >ACCEPT: 000110010101000</font><br/><font color = green >ACCEPT: 101001</font><br/><font color = green >ACCEPT: 11111100101000</font><br/><font color = green >ACCEPT: 00010101001</font>\n",
       "<h2>Test Suite: (Should be REJECTED)</h2>\n",
       "<font color = red>REJECT: 0</font><br/><font color = red>REJECT: 1</font><br/><font color = red>REJECT: 0110</font><br/><font color = red>REJECT: 1001</font><br/><font color = red>REJECT: 01101</font><br/><font color = red>REJECT: 10010</font><br/><font color = red>REJECT: 1100010001110</font><br/><font color = red>REJECT: cat</font><br/><font color = red>REJECT: 123456</font><br/><font color = red>REJECT: 3011001</font><br/><font color = red>REJECT: 1001107</font><br/><font color = red>REJECT: 1111010</font><br/><font color = red>REJECT: 00001001</font>"
      ],
      "text/plain": [
       "<IPython.core.display.Markdown object>"
      ]
     },
     "metadata": {},
     "output_type": "display_data"
    }
   ],
   "source": [
    "# Exercise 5\n",
    "answer = '([01]*1010[01]*1001[01]*)|([01]*1001[01]*1010[01]*)|[01]*(101001|1001010)[01]*'\n",
    "# Test Strings:\n",
    "testStrings=[]\n",
    "shouldAccept=['010101001', '000110010101000', '101001', '11111100101000', '00010101001']\n",
    "shouldReject=['0', '1', '0110', '1001', '01101', '10010', '1100010001110', 'cat', '123456', '3011001', '1001107', '1111010', '00001001']\n",
    "display(Markdown(test_regex(shouldAccept,shouldReject,testStrings,answer)))"
   ]
  },
  {
   "cell_type": "markdown",
   "metadata": {},
   "source": [
    "<p><b>Exercise 6: </b>Explain in plain English what types of strings the regular expression <tt>([0-9]|[A-F])+</tt> represents, and give some test strings:</p>\n",
    "<script type=\"text/javascript\">\n",
    "\n",
    "  InsertRegExBox(\n",
    "    'Exercise 6',\n",
    "    '([0-9]|[A-F])+',\n",
    "    MATCHFULLTEXT,\n",
    "    '',\n",
    "    8,\n",
    "    EMPTYARRAY,'EMPTYARRAY',EMPTYARRAY,'EMPTYARRAY'\n",
    "  );\n",
    "</script>\n",
    "# A string composed of only number 0 to 9 and letter A to F"
   ]
  },
  {
   "cell_type": "code",
   "execution_count": 13,
   "metadata": {
    "pycharm": {
     "is_executing": false
    }
   },
   "outputs": [
    {
     "data": {
      "text/markdown": [
       "<h2>Test Strings:</h2>\n",
       "\n",
       "<h2>Test Suite: (Should be ACCEPTED)</h2>\n",
       "<font color = green >ACCEPT: 12633454</font><br/><font color = green >ACCEPT: 12314A</font><br/><font color = green >ACCEPT: A24235</font><br/><font color = green >ACCEPT: AFBCD</font>\n",
       "<h2>Test Suite: (Should be REJECTED)</h2>\n",
       "<font color = red>REJECT: wsfgse</font><br/><font color = red>REJECT: 345dD</font><br/><font color = red>REJECT: HRT</font>"
      ],
      "text/plain": [
       "<IPython.core.display.Markdown object>"
      ]
     },
     "metadata": {},
     "output_type": "display_data"
    }
   ],
   "source": [
    "# Exercise 6\n",
    "answer = '([0-9]|[A-F])+'\n",
    "# Test Strings:\n",
    "testStrings=[]\n",
    "shouldAccept=['12633454','12314A','A24235','AFBCD']\n",
    "shouldReject=['wsfgse','345dD','HRT']\n",
    "display(Markdown(test_regex(shouldAccept,shouldReject,testStrings,answer)))"
   ]
  },
  {
   "cell_type": "markdown",
   "metadata": {},
   "source": [
    "<p><b>Exercise 7: </b>Explain in plain English what types of strings the regular expression <tt>(\\(\\d\\d\\d\\)\\s)?\\d\\d\\d-\\d\\d\\d\\d</tt> represents, and give some test strings:</p>\n",
    "<script type=\"text/javascript\">\n",
    "\n",
    "  InsertRegExBox(\n",
    "    'Exercise 7',\n",
    "    '(\\\\(\\\\d\\\\d\\\\d\\\\)\\\\s)?\\\\d\\\\d\\\\d-\\\\d\\\\d\\\\d\\\\d',\n",
    "    MATCHFULLTEXT,\n",
    "    '',\n",
    "    8,\n",
    "    EMPTYARRAY,'EMPTYARRAY',EMPTYARRAY,'EMPTYARRAY'\n",
    "  );\n",
    "</script>\n",
    "\n",
    "# A phone number. Area code is surrounded by brackets and is optional. Then it is followed by a white space, then the first 3 digits are followed by - and then the number ends with 4 digits"
   ]
  },
  {
   "cell_type": "code",
   "execution_count": 14,
   "metadata": {
    "pycharm": {
     "is_executing": false
    }
   },
   "outputs": [
    {
     "data": {
      "text/markdown": [
       "<h2>Test Strings:</h2>\n",
       "\n",
       "<h2>Test Suite: (Should be ACCEPTED)</h2>\n",
       "<font color = green >ACCEPT: (123) 111-1111</font><br/><font color = green >ACCEPT: 111-1111</font>\n",
       "<h2>Test Suite: (Should be REJECTED)</h2>\n",
       "<font color = red>REJECT: 1231234567</font><br/><font color = red>REJECT: 1234567</font>"
      ],
      "text/plain": [
       "<IPython.core.display.Markdown object>"
      ]
     },
     "metadata": {},
     "output_type": "display_data"
    }
   ],
   "source": [
    "# Exercise 7\n",
    "answer = '(\\(\\d\\d\\d\\)\\s)?\\d\\d\\d-\\d\\d\\d\\d'\n",
    "# Test Strings:\n",
    "testStrings=[]\n",
    "shouldAccept=[\"(123) 111-1111\",\"111-1111\"]\n",
    "shouldReject=[\"1231234567\",\"1234567\"]\n",
    "display(Markdown(test_regex(shouldAccept,shouldReject,testStrings,answer)))"
   ]
  },
  {
   "cell_type": "markdown",
   "metadata": {},
   "source": [
    "<p><b>Exercise 8: </b>Develop a regular expression that will accept the following three strings: <tt>{\"wellrespected CEO\", \"well respected CEO\", \"well-respected CEO\"}</tt>:</p>\n",
    "<script type=\"text/javascript\">\n",
    "\n",
    "  var aMatchSuccessPRETRUCK = new Array('wellrespected CEO','well respected CEO','well-respected CEO');\n",
    "  var aMatchFailPRETRUCK = new Array('wellrespectedaward','well.respected CEO','well- respected CEO','well -respected CEO','boss', 'well-loved CEO', 'well respected ceo', 'highly-respected CEO');\n",
    "\n",
    "  InsertRegExBox(\n",
    "    'Exercise 8',\n",
    "    '',\n",
    "    MATCHFULLTEXT,\n",
    "    '',\n",
    "    MATCHLENDEFAULT,\n",
    "    aMatchSuccessPRETRUCK,\n",
    "    'aMatchSuccessPRETRUCK',\n",
    "    aMatchFailPRETRUCK,\n",
    "    'aMatchFailPRETRUCK'\n",
    "  );\n",
    "\n",
    "</script>\n"
   ]
  },
  {
   "cell_type": "code",
   "execution_count": 15,
   "metadata": {
    "pycharm": {
     "is_executing": false
    }
   },
   "outputs": [
    {
     "data": {
      "text/markdown": [
       "<h2>Test Strings:</h2>\n",
       "\n",
       "<h2>Test Suite: (Should be ACCEPTED)</h2>\n",
       "<font color = green >ACCEPT: wellrespected CEO</font><br/><font color = green >ACCEPT: well respected CEO</font><br/><font color = green >ACCEPT: well-respected CEO</font>\n",
       "<h2>Test Suite: (Should be REJECTED)</h2>\n",
       "<font color = red>REJECT: wellrespectedaward</font><br/><font color = red>REJECT: well.respected CEO</font><br/><font color = red>REJECT: well- respected CEO</font><br/><font color = red>REJECT: well -respected CEO</font><br/><font color = red>REJECT: boss</font><br/><font color = red>REJECT: well-loved CEO</font><br/><font color = red>REJECT: well respected ceo</font><br/><font color = red>REJECT: highly-respected CEO</font>"
      ],
      "text/plain": [
       "<IPython.core.display.Markdown object>"
      ]
     },
     "metadata": {},
     "output_type": "display_data"
    }
   ],
   "source": [
    "# Exercise 8\n",
    "answer = 'well( |-|)respected CEO'\n",
    "# Test Strings:\n",
    "testStrings=[]\n",
    "shouldAccept=['wellrespected CEO', 'well respected CEO', 'well-respected CEO']\n",
    "shouldReject=['wellrespectedaward', 'well.respected CEO', 'well- respected CEO', 'well -respected CEO', 'boss', 'well-loved CEO', 'well respected ceo', 'highly-respected CEO']\n",
    "display(Markdown(test_regex(shouldAccept,shouldReject,testStrings,answer)))"
   ]
  },
  {
   "cell_type": "markdown",
   "metadata": {},
   "source": [
    "<p>\n",
    "  <b>Exercise 9: </b>Develop a regular expression that takes in a <tt>two decimal value sum equation</tt>: <br>\n",
    "  <i>An sum equation is in the form of two numbers being added together, with an equals, an no spaces.</i>\n",
    "</p>\n",
    "<script type=\"text/javascript\">\n",
    "  let aMatchSuccessEx9 = new Array('0+1=', '10+11=', '2884+165=', '75+25=');\n",
    "  let aMatchFailEx9 = new Array('0+4', '75 +12=', '+1=', '1+', 'cat+8=', 'one+two=', '=', '+=');\n",
    "\n",
    "  InsertRegExBox(\n",
    "    'Exercise 9',\n",
    "    '',\n",
    "    MATCHFULLTEXT,\n",
    "    '',\n",
    "    MATCHLENDEFAULT,\n",
    "    aMatchSuccessEx9,\n",
    "    'aMatchSuccessEx9',\n",
    "    aMatchFailEx9,\n",
    "    'aMatchFailEx9'\n",
    "  );\n",
    "</script>\n"
   ]
  },
  {
   "cell_type": "code",
   "execution_count": 16,
   "metadata": {
    "pycharm": {
     "is_executing": false
    }
   },
   "outputs": [
    {
     "data": {
      "text/markdown": [
       "<h2>Test Strings:</h2>\n",
       "\n",
       "<h2>Test Suite: (Should be ACCEPTED)</h2>\n",
       "<font color = green >ACCEPT: 0+1=</font><br/><font color = green >ACCEPT: 10+11=</font><br/><font color = green >ACCEPT: 2884+165=</font><br/><font color = green >ACCEPT: 75+25=</font>\n",
       "<h2>Test Suite: (Should be REJECTED)</h2>\n",
       "<font color = red>REJECT: 0+4</font><br/><font color = red>REJECT: 75 +12=</font><br/><font color = red>REJECT: +1=</font><br/><font color = red>REJECT: 1+</font><br/><font color = red>REJECT: cat+8=</font><br/><font color = red>REJECT: one+two=</font><br/><font color = red>REJECT: =</font><br/><font color = red>REJECT: +=</font>"
      ],
      "text/plain": [
       "<IPython.core.display.Markdown object>"
      ]
     },
     "metadata": {},
     "output_type": "display_data"
    }
   ],
   "source": [
    "# Exercise 9\n",
    "answer = '(0|([1-9]\\d*))+\\+(0|([1-9]\\d*))+='\n",
    "# Test Strings:\n",
    "testStrings=[]\n",
    "shouldAccept=['0+1=', '10+11=', '2884+165=', '75+25=']\n",
    "shouldReject=['0+4', '75 +12=', '+1=', '1+', 'cat+8=', 'one+two=', '=', '+=']\n",
    "display(Markdown(test_regex(shouldAccept,shouldReject,testStrings,answer)))"
   ]
  },
  {
   "cell_type": "markdown",
   "metadata": {},
   "source": [
    "<p><b>Exercise 10: </b>Develop a regular expression that will accept strings consisting of three or four words only\n",
    " (a word is a collection of \"word\" characters separated by a space, the start of the expression, or the end of the expression). <br>\n",
    " There may or may not be punctuation at the end of the string: (Hint: The test cases include cases where there are extra spaces at the end of the string)</p>\n",
    "<script type=\"text/javascript\">\n",
    "\n",
    "  var aMatchSuccess3OR4 = new Array('one two three','one two three four','1 2 3 4','how many words?');\n",
    "  var aMatchFail3OR4 = new Array('  word word', 'word','word word','word word word word word','word! word word', 'word word  ');\n",
    "\n",
    "  InsertRegExBox(\n",
    "    'Exercise 10',\n",
    "    '',\n",
    "    MATCHFULLTEXT,\n",
    "    '',\n",
    "    MATCHLENDEFAULT,\n",
    "    aMatchSuccess3OR4,\n",
    "    'aMatchSuccess3OR4',\n",
    "    aMatchFail3OR4,\n",
    "    'aMatchFail3OR4'\n",
    "  );\n",
    "\n",
    "</script>\n"
   ]
  },
  {
   "cell_type": "code",
   "execution_count": 17,
   "metadata": {
    "pycharm": {
     "is_executing": false
    }
   },
   "outputs": [
    {
     "data": {
      "text/markdown": [
       "<h2>Test Strings:</h2>\n",
       "\n",
       "<h2>Test Suite: (Should be ACCEPTED)</h2>\n",
       "<font color = green >ACCEPT: one two three</font><br/><font color = green >ACCEPT: one two three four</font><br/><font color = green >ACCEPT: 1 2 3 4</font><br/><font color = green >ACCEPT: how many words?</font>\n",
       "<h2>Test Suite: (Should be REJECTED)</h2>\n",
       "<font color = red>REJECT: word word</font><br/><font color = red>REJECT: word</font><br/><font color = red>REJECT: word word</font><br/><font color = red>REJECT: word word word word word</font><br/><font color = red>REJECT: word! word word</font><br/><font color = red>REJECT: word word</font>"
      ],
      "text/plain": [
       "<IPython.core.display.Markdown object>"
      ]
     },
     "metadata": {},
     "output_type": "display_data"
    }
   ],
   "source": [
    "# Exercise 10\n",
    "answer = '(\\w+ ){2,3}\\w+[?!.,]?'\n",
    "# Test Strings:\n",
    "testStrings=[]\n",
    "shouldAccept=['one two three', 'one two three four', '1 2 3 4', 'how many words?']\n",
    "shouldReject=['word word', 'word', 'word word', 'word word word word word', 'word! word word', 'word word']\n",
    "display(Markdown(test_regex(shouldAccept,shouldReject,testStrings,answer)))"
   ]
  },
  {
   "cell_type": "markdown",
   "metadata": {},
   "source": [
    "<p><b>Exercise 11: </b>Develop a regular expression that will accept the word\n",
    "rabbit and the word box with at most 2 other words between them:</p>\n",
    "<script type=\"text/javascript\">\n",
    "\n",
    "  var aMatchSuccessCATHAT = new Array('rabbit box','rabbit in box','rabbit in the box');\n",
    "  var aMatchFailCATHAT = new Array('box rabbit','rabbitbox','rabbitinthebox','rabbit in the big box','rabbit in the super big box');\n",
    "\n",
    "  InsertRegExBox(\n",
    "    'Exercise 11',\n",
    "    '',\n",
    "    MATCHFULLTEXT,\n",
    "    '',\n",
    "    MATCHLENDEFAULT,\n",
    "    aMatchSuccessCATHAT,\n",
    "    'aMatchSuccessCATHAT',\n",
    "    aMatchFailCATHAT,\n",
    "    'aMatchFailCATHAT'\n",
    "  );\n",
    "\n",
    "</script>\n"
   ]
  },
  {
   "cell_type": "code",
   "execution_count": 18,
   "metadata": {
    "pycharm": {
     "is_executing": false
    }
   },
   "outputs": [
    {
     "data": {
      "text/markdown": [
       "<h2>Test Strings:</h2>\n",
       "\n",
       "<h2>Test Suite: (Should be ACCEPTED)</h2>\n",
       "<font color = green >ACCEPT: rabbit box</font><br/><font color = green >ACCEPT: rabbit in box</font><br/><font color = green >ACCEPT: rabbit in the box</font>\n",
       "<h2>Test Suite: (Should be REJECTED)</h2>\n",
       "<font color = red>REJECT: box rabbit</font><br/><font color = red>REJECT: rabbitbox</font><br/><font color = red>REJECT: rabbitinthebox</font><br/><font color = red>REJECT: rabbit in the big box</font><br/><font color = red>REJECT: rabbit in the super big box</font>"
      ],
      "text/plain": [
       "<IPython.core.display.Markdown object>"
      ]
     },
     "metadata": {},
     "output_type": "display_data"
    }
   ],
   "source": [
    "# Exercise 11\n",
    "answer = 'rabbit ([a-z]* ){0,2}box'\n",
    "# Test Strings:\n",
    "testStrings=[]\n",
    "shouldAccept=['rabbit box', 'rabbit in box', 'rabbit in the box']\n",
    "shouldReject=['box rabbit', 'rabbitbox', 'rabbitinthebox', 'rabbit in the big box', 'rabbit in the super big box']\n",
    "display(Markdown(test_regex(shouldAccept,shouldReject,testStrings,answer)))"
   ]
  },
  {
   "cell_type": "markdown",
   "metadata": {},
   "source": [
    "<p><b>Exercise 12: </b>Develop a regular expression that will accept a 24-hour time <tt>(00:00 ... 23:59)</tt>:</p>\n",
    "<script type=\"text/javascript\">\n",
    "\n",
    "  var aMatchSuccessTIME = new Array('12:34','00:00','23:59','09:00','10:00','11:11','15:15');\n",
    "  var aMatchFailTIME = new Array('24:00','12:32 pm','0:60','9:99','4','-4:00','03:99');\n",
    "\n",
    "// '((1?[0-9])|(2[0-3])):[0-5][0-9]'\n",
    "\n",
    "  InsertRegExBox(\n",
    "    'Exercise 12',\n",
    "    '',\n",
    "    MATCHFULLTEXT,\n",
    "    '',\n",
    "    MATCHLENDEFAULT,\n",
    "    aMatchSuccessTIME,\n",
    "    'aMatchSuccessTIME',\n",
    "    aMatchFailTIME,\n",
    "    'aMatchFailTIME'\n",
    "  );\n",
    "\n",
    "</script>\n"
   ]
  },
  {
   "cell_type": "code",
   "execution_count": 19,
   "metadata": {
    "pycharm": {
     "is_executing": false
    }
   },
   "outputs": [
    {
     "data": {
      "text/markdown": [
       "<h2>Test Strings:</h2>\n",
       "\n",
       "<h2>Test Suite: (Should be ACCEPTED)</h2>\n",
       "<font color = green >ACCEPT: 12:34</font><br/><font color = green >ACCEPT: 00:00</font><br/><font color = green >ACCEPT: 23:59</font><br/><font color = green >ACCEPT: 09:00</font><br/><font color = green >ACCEPT: 10:00</font><br/><font color = green >ACCEPT: 11:11</font><br/><font color = green >ACCEPT: 15:15</font>\n",
       "<h2>Test Suite: (Should be REJECTED)</h2>\n",
       "<font color = red>REJECT: 24:00</font><br/><font color = red>REJECT: 12:32 pm</font><br/><font color = red>REJECT: 0:60</font><br/><font color = red>REJECT: 9:99</font><br/><font color = red>REJECT: 4</font><br/><font color = red>REJECT: -4:00</font><br/><font color = red>REJECT: 03:99</font>"
      ],
      "text/plain": [
       "<IPython.core.display.Markdown object>"
      ]
     },
     "metadata": {},
     "output_type": "display_data"
    }
   ],
   "source": [
    "# Exercise 12\n",
    "answer = '([01]\\d|2[0-3]):[0-5]\\d'\n",
    "# Test Strings:\n",
    "testStrings=[]\n",
    "shouldAccept=['12:34', '00:00', '23:59', '09:00', '10:00', '11:11', '15:15']\n",
    "shouldReject=['24:00', '12:32 pm', '0:60', '9:99', '4', '-4:00', '03:99']\n",
    "display(Markdown(test_regex(shouldAccept,shouldReject,testStrings,answer)))"
   ]
  },
  {
   "cell_type": "markdown",
   "metadata": {},
   "source": [
    "<h4>This is the end of the pre-lab. Remember to save your solutions to your prelab, and show the TAs before the starting your lab!</h4>\n",
    "<h2><a name=\"sec6\"></a>Section 6: Lab Exercises</h2>\n",
    "<p> Note that the labs are meant to be done individually!</p>\n",
    "<p><b>Exercise 13: (1 mark)</b> Gene Identification</p>\n",
    "<p>DNA sequences are comprised of a simple 4-alphabet language with the symbols\n",
    "<tt>{A,C,G,T}</tt>. Three consecutive letters are known\n",
    "as a codon, so <tt>ACT</tt> and <tt>TCG</tt> are both codons.&nbsp; A Gene is a collection of\n",
    "at least three codons that starts with an <tt>ATG</tt> codon and ends with a <tt>TAA</tt>,\n",
    "<tt>TAG</tt>, or <tt>TGA</tt> codon. Any number of symbols can come before or after the start and end two codons.</p>\n",
    "<p>You need\n",
    "to develop a regular expression that will match any DNA sequence that contain a gene. </p>\n",
    "<script type=\"text/javascript\">\n",
    "\n",
    "//  var aMatchSuccessGENE = new Array('ATGCCCTAA','ATGCCCTAG','ATGCCCTGA','ATGATGATGTAA','ATGAAAAACAAGAATTAA','ATGACAACCACGACTTAA','ATGAGAAGCAGGAGTTAA','ATGATAATCATGATTTAA','ATGCAACACCAGCATTAA','ATGCCACCCCCGCCTTAA','ATGCGACGCCGGCGTTAA','ATGCTACTCCTGCTTTAA','ATGGAAGACGAGGATTAA','ATGGCAGCCGCGGCTTAA','ATGGGAGGCGGGGGTTAA','ATGGTAGTCGTGGTTTAA','ATGTACTATTCATCCTCGTCTTGCTGGTGTTTATTCTTGTTTTAA');\n",
    "//  var aMatchFailGENE = new Array('GATTACA','ATGTAA','ATGTAG','ATGTGA','ATGTAATAG','ATGTAGTAA','ATGTGATAA','ATGCCCCTAG','ATGCCCCCTAG','CCCATGCCCCTAGCCC','CCCATGCCCCCTAGCCC');\n",
    "\n",
    "\tvar aMatchSuccessGENE = new Array('ATGCCCTAA','GCTAATGCCCTAA','ATGCCCTAG','ATGCCCTGA','ATGATGATGTAA','ATGAAAAACAAGAATTAA','ATGACAACCACGACTTAA','ATGAGAAGCAGGAGTTAA','ATGATAATCATGATTTAA','ATGCAACACCAGCATTAA','ATGCCACCCCCGCCTTAA','ATGCGACGCCGGCGTTAA','ATGCTACTCCTGCTTTAA','ATGGAAGACGAGGATTAA','ATGGCAGCCGCGGCTTAA','ATGGGAGGCGGGGGTTAA','ATGGTAGTCGTGGTTTAA','ATGTACTATTCATCCTCGTCTTGCTGGTGTTTATTCTTGTTTTAA', 'ATGCCCTAGCAC');\n",
    "\tvar aMatchFailGENE = new Array('GATTACA','ATGTAA','ATGTAG','ATGTGA','ATGCCCCTAG','ATGCCCCCTAG','CCCATGCCCCTAGCCC','CCCATGCCCCCTAGCCC','SQRGCTAATGCCCTAASKLJE','123asdATGAGAAGCAGGAGTTAA123asd');\n",
    "\n",
    "  InsertRegExBox(\n",
    "    'Exercise 13',\n",
    "    '',\n",
    "    MATCHFULLTEXT,\n",
    "    '',\n",
    "    MATCHLENDEFAULT,\n",
    "    aMatchSuccessGENE,\n",
    "    'aMatchSuccessGENE',\n",
    "    aMatchFailGENE,\n",
    "    'aMatchFailGENE'\n",
    "  );\n",
    "\n",
    "</script>\n"
   ]
  },
  {
   "cell_type": "code",
   "execution_count": 20,
   "metadata": {
    "pycharm": {
     "is_executing": false
    }
   },
   "outputs": [
    {
     "data": {
      "text/markdown": [
       "<h2>Test Strings:</h2>\n",
       "\n",
       "<h2>Test Suite: (Should be ACCEPTED)</h2>\n",
       "<font color = green >ACCEPT: ATGCCCTAA</font><br/><font color = green >ACCEPT: GCTAATGCCCTAA</font><br/><font color = green >ACCEPT: ATGCCCTAG</font><br/><font color = green >ACCEPT: ATGCCCTGA</font><br/><font color = green >ACCEPT: ATGATGATGTAA</font><br/><font color = green >ACCEPT: ATGAAAAACAAGAATTAA</font><br/><font color = green >ACCEPT: ATGACAACCACGACTTAA</font><br/><font color = green >ACCEPT: ATGAGAAGCAGGAGTTAA</font><br/><font color = green >ACCEPT: ATGATAATCATGATTTAA</font><br/><font color = green >ACCEPT: ATGCAACACCAGCATTAA</font><br/><font color = green >ACCEPT: ATGCCACCCCCGCCTTAA</font><br/><font color = green >ACCEPT: ATGCGACGCCGGCGTTAA</font><br/><font color = green >ACCEPT: ATGCTACTCCTGCTTTAA</font><br/><font color = green >ACCEPT: ATGGAAGACGAGGATTAA</font><br/><font color = green >ACCEPT: ATGGCAGCCGCGGCTTAA</font><br/><font color = green >ACCEPT: ATGGGAGGCGGGGGTTAA</font><br/><font color = green >ACCEPT: ATGGTAGTCGTGGTTTAA</font><br/><font color = green >ACCEPT: ATGTACTATTCATCCTCGTCTTGCTGGTGTTTATTCTTGTTTTAA</font><br/><font color = green >ACCEPT: ATGCCCTAGCAC</font>\n",
       "<h2>Test Suite: (Should be REJECTED)</h2>\n",
       "<font color = red>REJECT: GATTACA</font><br/><font color = red>REJECT: ATGTAA</font><br/><font color = red>REJECT: ATGTAG</font><br/><font color = red>REJECT: ATGTGA</font><br/><font color = red>REJECT: ATGCCCCTAG</font><br/><font color = red>REJECT: ATGCCCCCTAG</font><br/><font color = red>REJECT: CCCATGCCCCTAGCCC</font><br/><font color = red>REJECT: CCCATGCCCCCTAGCCC</font><br/><font color = red>REJECT: SQRGCTAATGCCCTAASKLJE</font><br/><font color = red>REJECT: 123asdATGAGAAGCAGGAGTTAA123asd</font>"
      ],
      "text/plain": [
       "<IPython.core.display.Markdown object>"
      ]
     },
     "metadata": {},
     "output_type": "display_data"
    }
   ],
   "source": [
    "# Exercise 13\n",
    "answer = '[ATCG]*ATG([ATCG]{3})+(TAA|TAG|TGA)[ATCG]*'\n",
    "# Test Strings:\n",
    "testStrings=[]\n",
    "shouldAccept=['ATGCCCTAA', 'GCTAATGCCCTAA', 'ATGCCCTAG', 'ATGCCCTGA', 'ATGATGATGTAA', 'ATGAAAAACAAGAATTAA', 'ATGACAACCACGACTTAA', 'ATGAGAAGCAGGAGTTAA', 'ATGATAATCATGATTTAA', 'ATGCAACACCAGCATTAA', 'ATGCCACCCCCGCCTTAA', 'ATGCGACGCCGGCGTTAA', 'ATGCTACTCCTGCTTTAA', 'ATGGAAGACGAGGATTAA', 'ATGGCAGCCGCGGCTTAA', 'ATGGGAGGCGGGGGTTAA', 'ATGGTAGTCGTGGTTTAA', 'ATGTACTATTCATCCTCGTCTTGCTGGTGTTTATTCTTGTTTTAA', 'ATGCCCTAGCAC']\n",
    "shouldReject=['GATTACA', 'ATGTAA', 'ATGTAG', 'ATGTGA', 'ATGCCCCTAG', 'ATGCCCCCTAG', 'CCCATGCCCCTAGCCC', 'CCCATGCCCCCTAGCCC', 'SQRGCTAATGCCCTAASKLJE', '123asdATGAGAAGCAGGAGTTAA123asd']\n",
    "display(Markdown(test_regex(shouldAccept,shouldReject,testStrings,answer)))"
   ]
  },
  {
   "cell_type": "markdown",
   "metadata": {},
   "source": [
    "<p><b>Exercise 14: (1 mark)</b> Develop a regular expression for a binary\n",
    "string that has an even number of 0s:</p>\n",
    "<script type=\"text/javascript\">\n",
    "\n",
    "  var aMatchSuccess5B = new Array('1','','11','111','1111','100','001','010','1001','100001','1001001','1010','101101','111101110111','00','0000','000000','1111011111110111110111110111','1101110111100111101110111111');\n",
    "  var aMatchFail5B = new Array('0','000','00000','10','01','110','011','0001','1000','10001','101001','1010101','11111111110','01111111111','11110111111','cat','123456');\n",
    "\n",
    "  InsertRegExBox(\n",
    "    'Exercise 15',\n",
    "    '',\n",
    "    MATCHFULLTEXT,\n",
    "    '',\n",
    "    MATCHLENDEFAULT,\n",
    "    aMatchSuccess5B,\n",
    "    'aMatchSuccess5B',\n",
    "    aMatchFail5B,\n",
    "    'aMatchFail5B'\n",
    "  );\n",
    "\n",
    "</script>\n"
   ]
  },
  {
   "cell_type": "code",
   "execution_count": 21,
   "metadata": {
    "pycharm": {
     "is_executing": false
    }
   },
   "outputs": [
    {
     "data": {
      "text/markdown": [
       "<h2>Test Strings:</h2>\n",
       "\n",
       "<h2>Test Suite: (Should be ACCEPTED)</h2>\n",
       "<font color = green >ACCEPT: 1</font><br/><font color = green >ACCEPT: 11</font><br/><font color = green >ACCEPT: 111</font><br/><font color = green >ACCEPT: 1111</font><br/><font color = green >ACCEPT: 100</font><br/><font color = green >ACCEPT: 001</font><br/><font color = green >ACCEPT: 010</font><br/><font color = green >ACCEPT: 1001</font><br/><font color = green >ACCEPT: 100001</font><br/><font color = green >ACCEPT: 1001001</font><br/><font color = green >ACCEPT: 1010</font><br/><font color = green >ACCEPT: 101101</font><br/><font color = green >ACCEPT: 111101110111</font><br/><font color = green >ACCEPT: 00</font><br/><font color = green >ACCEPT: 0000</font><br/><font color = green >ACCEPT: 000000</font><br/><font color = green >ACCEPT: 1111011111110111110111110111</font><br/><font color = green >ACCEPT: 1101110111100111101110111111</font>\n",
       "<h2>Test Suite: (Should be REJECTED)</h2>\n",
       "<font color = red>REJECT: 0</font><br/><font color = red>REJECT: 000</font><br/><font color = red>REJECT: 00000</font><br/><font color = red>REJECT: 10</font><br/><font color = red>REJECT: 01</font><br/><font color = red>REJECT: 110</font><br/><font color = red>REJECT: 011</font><br/><font color = red>REJECT: 0001</font><br/><font color = red>REJECT: 1000</font><br/><font color = red>REJECT: 10001</font><br/><font color = red>REJECT: 101001</font><br/><font color = red>REJECT: 1010101</font><br/><font color = red>REJECT: 11111111110</font><br/><font color = red>REJECT: 01111111111</font><br/><font color = red>REJECT: 11110111111</font><br/><font color = red>REJECT: cat</font><br/><font color = red>REJECT: 123456</font>"
      ],
      "text/plain": [
       "<IPython.core.display.Markdown object>"
      ]
     },
     "metadata": {},
     "output_type": "display_data"
    }
   ],
   "source": [
    "# Exercise 15\n",
    "answer = '((1*01*01*)*|1*)'\n",
    "# Test Strings:\n",
    "testStrings=[]\n",
    "shouldAccept=['1', '11', '111', '1111', '100', '001', '010', '1001', '100001', '1001001', '1010', '101101', '111101110111', '00', '0000', '000000', '1111011111110111110111110111', '1101110111100111101110111111']\n",
    "shouldReject=['0', '000', '00000', '10', '01', '110', '011', '0001', '1000', '10001', '101001', '1010101', '11111111110', '01111111111', '11110111111', 'cat', '123456']\n",
    "display(Markdown(test_regex(shouldAccept,shouldReject,testStrings,answer)))"
   ]
  },
  {
   "cell_type": "markdown",
   "metadata": {},
   "source": [
    "<p><b>Exercise 15: (1 mark)</b> Develop a regular expression for a binary string that\n",
    "has no consecutive 0s and no consecutive 1s:</p>\n",
    "<script type=\"text/javascript\">\n",
    "\n",
    "  var aMatchSuccess5C = new Array('1','0','10','01','101','010','1010','0101','10101','01010','101010','010101');\n",
    "  var aMatchFail5C = new Array('00','11','001','100','110','011','1001','0110','01010100101010','10101011010101','cat','123456');\n",
    "\n",
    "  InsertRegExBox(\n",
    "    'Exercise 16',\n",
    "    '',\n",
    "    MATCHFULLTEXT,\n",
    "    '',\n",
    "    MATCHLENDEFAULT,\n",
    "    aMatchSuccess5C,\n",
    "    'aMatchSuccess5C',\n",
    "    aMatchFail5C,\n",
    "    'aMatchFail5C'\n",
    "  );\n",
    "\n",
    "</script>\n"
   ]
  },
  {
   "cell_type": "code",
   "execution_count": 22,
   "metadata": {
    "pycharm": {
     "is_executing": false
    }
   },
   "outputs": [
    {
     "data": {
      "text/markdown": [
       "<h2>Test Strings:</h2>\n",
       "\n",
       "<h2>Test Suite: (Should be ACCEPTED)</h2>\n",
       "<font color = green >ACCEPT: 1</font><br/><font color = green >ACCEPT: 0</font><br/><font color = green >ACCEPT: 10</font><br/><font color = green >ACCEPT: 01</font><br/><font color = green >ACCEPT: 101</font><br/><font color = green >ACCEPT: 010</font><br/><font color = green >ACCEPT: 1010</font><br/><font color = green >ACCEPT: 0101</font><br/><font color = green >ACCEPT: 10101</font><br/><font color = green >ACCEPT: 01010</font><br/><font color = green >ACCEPT: 101010</font><br/><font color = green >ACCEPT: 010101</font>\n",
       "<h2>Test Suite: (Should be REJECTED)</h2>\n",
       "<font color = red>REJECT: 00</font><br/><font color = red>REJECT: 11</font><br/><font color = red>REJECT: 001</font><br/><font color = red>REJECT: 100</font><br/><font color = red>REJECT: 110</font><br/><font color = red>REJECT: 011</font><br/><font color = red>REJECT: 1001</font><br/><font color = red>REJECT: 0110</font><br/><font color = red>REJECT: 01010100101010</font><br/><font color = red>REJECT: 10101011010101</font><br/><font color = red>REJECT: cat</font><br/><font color = red>REJECT: 123456</font>"
      ],
      "text/plain": [
       "<IPython.core.display.Markdown object>"
      ]
     },
     "metadata": {},
     "output_type": "display_data"
    }
   ],
   "source": [
    "# Exercise 16\n",
    "answer = '(1?(01)*|0?(10)*)'\n",
    "# Test Strings:\n",
    "testStrings=[]\n",
    "shouldAccept=['1', '0', '10', '01', '101', '010', '1010', '0101', '10101', '01010', '101010', '010101']\n",
    "shouldReject=['00', '11', '001', '100', '110', '011', '1001', '0110', '01010100101010', '10101011010101', 'cat', '123456']\n",
    "display(Markdown(test_regex(shouldAccept,shouldReject,testStrings,answer)))"
   ]
  },
  {
   "cell_type": "markdown",
   "metadata": {},
   "source": [
    "<p><b>Exercise 16: (1 mark) </b> Money Matters</p>\n",
    "<p>Develop a regular expression that will\n",
    "accept a dollar amount. For example, <tt>\\$3.56</tt> and <tt>\\$1,000,000</tt> are valid amounts,\n",
    "whereas <tt>\\$5.321</tt> and <tt>\\$5,29,40</tt> are not. </p>\n",
    "<script type=\"text/javascript\">\n",
    "\n",
    "  var aMatchSuccessPRICE = new Array('\\$0','\\$0.00','\\$0.99','\\$4','\\$4.00','\\$10','\\$10.00','\\$1000','\\$1000.00','\\$1,000','\\$1,000.00','\\$8,888,888,888,888.88','\\$88,888,888,888,888.88','\\$888,888,888,888,888.88','\\$1234567.89');\n",
    "  var aMatchFailPRICE = new Array('\\$-0','\\$ 0','\\$1.9','\\$.99','banana','\\$,333.33','\\$12,34','\\$22,333,22,333.22','\\$\\$\\$','\\$\\$\\$0','3\\$','\\$02', '\\$088,888,98', '\\$1,222333', '\\$1234412,000,123', '\\$02,000.00');\n",
    "\n",
    "  InsertRegExBox(\n",
    "    'Exercise 17',\n",
    "    '',\n",
    "    MATCHFULLTEXT,\n",
    "    '',\n",
    "    MATCHLENDEFAULT,\n",
    "    aMatchSuccessPRICE,\n",
    "    'aMatchSuccessPRICE',\n",
    "    aMatchFailPRICE,\n",
    "    'aMatchFailPRICE'\n",
    "  );\n",
    "\n",
    "</script>\n"
   ]
  },
  {
   "cell_type": "code",
   "execution_count": 23,
   "metadata": {
    "pycharm": {
     "is_executing": false
    }
   },
   "outputs": [
    {
     "data": {
      "text/markdown": [
       "<h2>Test Strings:</h2>\n",
       "\n",
       "<h2>Test Suite: (Should be ACCEPTED)</h2>\n",
       "<font color = green >ACCEPT: \\$0</font><br/><font color = green >ACCEPT: \\$0.00</font><br/><font color = green >ACCEPT: \\$0.99</font><br/><font color = green >ACCEPT: \\$4</font><br/><font color = green >ACCEPT: \\$4.00</font><br/><font color = green >ACCEPT: \\$10</font><br/><font color = green >ACCEPT: \\$10.00</font><br/><font color = green >ACCEPT: \\$1000</font><br/><font color = green >ACCEPT: \\$1000.00</font><br/><font color = green >ACCEPT: \\$1,000</font><br/><font color = green >ACCEPT: \\$1,000.00</font><br/><font color = green >ACCEPT: \\$8,888,888,888,888.88</font><br/><font color = green >ACCEPT: \\$88,888,888,888,888.88</font><br/><font color = green >ACCEPT: \\$888,888,888,888,888.88</font><br/><font color = green >ACCEPT: \\$1234567.89</font>\n",
       "<h2>Test Suite: (Should be REJECTED)</h2>\n",
       "<font color = red>REJECT: \\$-0</font><br/><font color = red>REJECT: \\$ 0</font><br/><font color = red>REJECT: \\$1.9</font><br/><font color = red>REJECT: \\$.99</font><br/><font color = red>REJECT: banana</font><br/><font color = red>REJECT: \\$,333.33</font><br/><font color = red>REJECT: \\$12,34</font><br/><font color = red>REJECT: \\$22,333,22,333.22</font><br/><font color = red>REJECT: \\$\\$\\$</font><br/><font color = red>REJECT: \\$\\$\\$0</font><br/><font color = red>REJECT: 3\\$</font><br/><font color = red>REJECT: \\$02</font><br/><font color = red>REJECT: \\$088,888,98</font><br/><font color = red>REJECT: \\$1,222333</font><br/><font color = red>REJECT: \\$1234412,000,123</font><br/><font color = red>REJECT: \\$02,000.00</font>"
      ],
      "text/plain": [
       "<IPython.core.display.Markdown object>"
      ]
     },
     "metadata": {},
     "output_type": "display_data"
    }
   ],
   "source": [
    "# Exercise 17\n",
    "answer = '\\$(0|[1-9]\\d{0,2}((,\\d{3})*|(\\d{3})*))(\\.\\d{2})?'\n",
    "# Test Strings:\n",
    "testStrings=[]\n",
    "shouldAccept=['$0', '$0.00', '$0.99', '$4', '$4.00', '$10', '$10.00', '$1000', '$1000.00', '$1,000', '$1,000.00', '$8,888,888,888,888.88', '$88,888,888,888,888.88', '$888,888,888,888,888.88', '$1234567.89']\n",
    "shouldReject=['$-0', '$ 0', '$1.9', '$.99', 'banana', '$,333.33', '$12,34', '$22,333,22,333.22', '$$$', '$$$0', '3$', '$02', '$088,888,98', '$1,222333', '$1234412,000,123', '$02,000.00']\n",
    "display(Markdown(test_regex(shouldAccept,shouldReject,testStrings,answer)))"
   ]
  },
  {
   "cell_type": "markdown",
   "metadata": {},
   "source": [
    "<p><b>Exercise 17: (1 mark)</b> IP addresses are important for computers to be able to communicate with eachother on the Internet. <br>\n",
    "  They identify a 'host' (personal computers are a kind of host) and enable other hosts to pass information to it, similar to an home address for physical packages or mail. <br>\n",
    "  \n",
    "  Develop a regular expression that matches a well formed <tt>IPv4</tt> address in <tt>dot-decimal notation</tt>.<br>\n",
    "  An <tt>IPv4</tt> address follows the scheme below: <br>\n",
    "  </p>\n",
    "<ul>\n",
    "    <li>4 numbers that are separated by dots.</li>\n",
    "    <li>The first number is within the range of <tt>0</tt> and <tt>223</tt>.</li>\n",
    "    <li>The second number is within the range of <tt>0</tt> and <tt>255</tt>.</li>\n",
    "    <li>The third number is within the range of <tt>0</tt> and <tt>255</tt>.</li>\n",
    "    <li>The fourth number is within the range of <tt>0</tt> and <tt>255</tt>.</li>\n",
    "    <li>There may be a subnet mask at the end of the address, which has a slash '/' followed by a number between <tt>1</tt> and <tt>30</tt>.</li>\n",
    "  </ul>\n",
    "<p></p>\n",
    "<script type=\"text/javascript\">\n",
    "\n",
    "  var aMatchSuccessEx14 = new Array('127.0.0.1', '192.168.0.254', '10.4.1.211', '6.147.190.64', '202.156.3.78', '0.0.0.0', '192.168.1.1/12', '10.24.3.2/30');\n",
    "  var aMatchFailEx14 = new Array('128.2.14.257', '127.0.0.00', '192.168.01.5', '233.134.2.3', 'a.0.0.1', '127.b.0.1', '192.169.c.3', '102.34.2.d', '127..0.0.1', '8.5.4.2.', '192.168.1.1/', '192.168.1.1/33');\n",
    "\n",
    "  InsertRegExBox(\n",
    "    'Exercise 14',\n",
    "    '',\n",
    "    MATCHFULLTEXT,\n",
    "    '',\n",
    "    MATCHLENDEFAULT,\n",
    "    aMatchSuccessEx14,\n",
    "    'aMatchSuccessEx14',\n",
    "    aMatchFailEx14,\n",
    "    'aMatchFailEx14'\n",
    "  );\n",
    "\n",
    "</script>\n"
   ]
  },
  {
   "cell_type": "code",
   "execution_count": 24,
   "metadata": {
    "pycharm": {
     "is_executing": false
    }
   },
   "outputs": [
    {
     "data": {
      "text/markdown": [
       "<h2>Test Strings:</h2>\n",
       "\n",
       "<h2>Test Suite: (Should be ACCEPTED)</h2>\n",
       "<font color = green >ACCEPT: 127.0.0.1</font><br/><font color = green >ACCEPT: 192.168.0.254</font><br/><font color = green >ACCEPT: 10.4.1.211</font><br/><font color = green >ACCEPT: 6.147.190.64</font><br/><font color = green >ACCEPT: 202.156.3.78</font><br/><font color = green >ACCEPT: 0.0.0.0</font><br/><font color = green >ACCEPT: 192.168.1.1/12</font><br/><font color = green >ACCEPT: 10.24.3.2/30</font>\n",
       "<h2>Test Suite: (Should be REJECTED)</h2>\n",
       "<font color = red>REJECT: 128.2.14.257</font><br/><font color = red>REJECT: 127.0.0.00</font><br/><font color = red>REJECT: 192.168.01.5</font><br/><font color = red>REJECT: 233.134.2.3</font><br/><font color = red>REJECT: a.0.0.1</font><br/><font color = red>REJECT: 127.b.0.1</font><br/><font color = red>REJECT: 192.169.c.3</font><br/><font color = red>REJECT: 102.34.2.d</font><br/><font color = red>REJECT: 127..0.0.1</font><br/><font color = red>REJECT: 8.5.4.2.</font><br/><font color = red>REJECT: 192.168.1.1/</font><br/><font color = red>REJECT: 192.168.1.1/33</font>"
      ],
      "text/plain": [
       "<IPython.core.display.Markdown object>"
      ]
     },
     "metadata": {},
     "output_type": "display_data"
    }
   ],
   "source": [
    "# Exercise 14\n",
    "answer = '(\\d|[1-9]\\d|1\\d\\d|(2[0-1]\\d|22[0-3]))\\.((\\d|[1-9]\\d|1\\d\\d|(2[0-4]\\d|25[0-5]))\\.){2}(\\d|[1-9]\\d|1\\d\\d|(2[0-4]\\d|25[0-5]))(/([1-9]|[12]\\d|30))?'\n",
    "# Test Strings:\n",
    "testStrings=[]\n",
    "shouldAccept=['127.0.0.1', '192.168.0.254', '10.4.1.211', '6.147.190.64', '202.156.3.78', '0.0.0.0', '192.168.1.1/12', '10.24.3.2/30']\n",
    "shouldReject=['128.2.14.257', '127.0.0.00', '192.168.01.5', '233.134.2.3', 'a.0.0.1', '127.b.0.1', '192.169.c.3', '102.34.2.d', '127..0.0.1', '8.5.4.2.', '192.168.1.1/', '192.168.1.1/33']\n",
    "display(Markdown(test_regex(shouldAccept,shouldReject,testStrings,answer)))"
   ]
  },
  {
   "cell_type": "markdown",
   "metadata": {},
   "source": [
    "<h2><a name=\"sec7\"></a>Section 7: Further Analysis Questions</h2>\n",
    "<br>\n",
    "<b>TODO (further analysis)</b>\n",
    "\n",
    "<br>\n",
    "<br>\n",
    "# English words\n",
    "<h2><a name=\"sec8\"></a>Section 8: End of Lab Survey</h2>\n",
    "<a href=\"https://docs.google.com/forms/d/e/1FAIpQLSckZr-c5vRFl4tu14cZ1N2WIdcOQjbMMuZKzsbXhzx2JF_ljw/viewform?usp=sf_link\">here</a>\n",
    "<h2><a name=\"sec9\"></a>Section 9: Challenge Exercises</h2>\n",
    "<p>\n",
    "\n",
    "Each one of the two exercises from below awards 0.5 marks:\n",
    "\n",
    "</p>\n",
    "<p><b>Exercise 18:</b> Searching</p>\n",
    "<p>You are in the market to buy a blue pick-up truck,\n",
    "and you wish to develop an automated web searching program (a spider) to search daily through various online\n",
    "newsgroups and classified ad websites to find text containing the word blue and\n",
    "the phrase pick-up truck close to each other, followed by a price. Specifically,\n",
    "you should match the words blue and the phrase (pickup/pick-up/pick up) truck\n",
    "separated by at most two other words or numbers (such as a year) in between. The pick-up truck phrase could\n",
    "appear before or after the word blue. After the words blue and the phrase pick-up\n",
    "truck, the text should also contain a price, and you should be able to simply\n",
    "re-use your price regular expression you developed previously.</p>\n",
    "<script type=\"text/javascript\">\n",
    "\n",
    "  var aMatchSuccessTRUCK = new Array('blue pickup truck \\$5000','blue pickup truck \\$5,000','blue pickup truck \\$1,234.56','blue pick-up truck \\$5000','blue pick up truck \\$5000','blue toyota pick-up truck \\$5000','blue toyota 1993 pick-up truck \\$5000','blah blah blue toyota 1993 pick-up truck blah blah \\$5000 blah','pickup truck blue \\$5000','pick-up truck 1993 toyota blue \\$5000','blah blah blah pick-up truck toyota 1993 blue blah blah blah \\$5000','desperate: blue 1993 toyota pickup truck for sale. \\$2,000 o.b.o.','toy pickup truck - cherry blue: \\$12.','blue blue pickup pickup truck truck \\$5000.');\n",
    "  var aMatchFailTRUCK = new Array('blue','truck','pickup truck','blue pickup truck','blue \\$5000','pickup truck \\$5000','blue truck \\$5000','\\$5000 blue pickup truck','blue car \\$5000','blue toyota 1993 pick-up truck','blue 1993 toyota automatic pick-up truck \\$5000','fblue\\'s pick-up truck sold for \\$5000','pick-up trucks by fblue: \\$5000','bluedy for sale pickup truck: \\$5000)');\n",
    "\n",
    "  InsertRegExBox(\n",
    "    'Exercise 18',\n",
    "    '',\n",
    "    MATCHFULLTEXT,\n",
    "    '',\n",
    "    MATCHLENDEFAULT,\n",
    "    aMatchSuccessTRUCK,\n",
    "    'aMatchSuccessTRUCK',\n",
    "    aMatchFailTRUCK,\n",
    "    'aMatchFailTRUCK'\n",
    "  );\n",
    "\n",
    "</script>\n"
   ]
  },
  {
   "cell_type": "code",
   "execution_count": 25,
   "metadata": {
    "pycharm": {
     "is_executing": false
    }
   },
   "outputs": [
    {
     "name": "stdout",
     "output_type": "stream",
     "text": [
      "((.* )*[Bb]lue (\\W{0,2}\\w* \\W{0,2}){0,2}[Pp]ick[ -]?up truck|(.* )*[Pp]ick[ -]?up truck (\\W{0,2}\\w* \\W{0,2}){0,2}[Bb]lue)\\W{0,2} (\\w*\\W{0,2} )*\\$(0|[1-9]\\d{0,2}((,\\d{3})*|(\\d{3})*))(\\.\\d{2})?.*\n"
     ]
    },
    {
     "data": {
      "text/markdown": [
       "<h2>Test Strings:</h2>\n",
       "<font color = green >ACCEPT: blue toyota + pick-up truck \\$5000</font><br/><font color = green >ACCEPT: toy pickup truck - cherry blue \\$12.</font><br/><font color = green >ACCEPT: desperate: blue 1993 toyota pickup truck for sale. \\$2,000 o.b.o.</font>\n",
       "<h2>Test Suite: (Should be ACCEPTED)</h2>\n",
       "<font color = green >ACCEPT: blue pickup truck \\$5000</font><br/><font color = green >ACCEPT: blue pickup truck \\$5,000</font><br/><font color = green >ACCEPT: blue pickup truck \\$1,234.56</font><br/><font color = green >ACCEPT: blue pick-up truck \\$5000</font><br/><font color = green >ACCEPT: blue pick up truck \\$5000</font><br/><font color = green >ACCEPT: blue toyota pick-up truck \\$5000</font><br/><font color = green >ACCEPT: blue toyota 1993 pick-up truck \\$5000</font><br/><font color = green >ACCEPT: blah blah blue toyota 1993 pick-up truck blah blah \\$5000 blah</font><br/><font color = green >ACCEPT: pickup truck blue \\$5000</font><br/><font color = green >ACCEPT: pick-up truck 1993 toyota blue \\$5000</font><br/><font color = green >ACCEPT: blah blah blah pick-up truck toyota 1993 blue blah blah blah \\$5000</font><br/><font color = green >ACCEPT: desperate: blue 1993 toyota pickup truck for sale. \\$2,000 o.b.o.</font><br/><font color = green >ACCEPT: toy pickup truck - cherry blue: \\$12.</font><br/><font color = green >ACCEPT: blue blue pickup pickup truck truck \\$5000.</font>\n",
       "<h2>Test Suite: (Should be REJECTED)</h2>\n",
       "<font color = red>REJECT: blue</font><br/><font color = red>REJECT: truck</font><br/><font color = red>REJECT: pickup truck</font><br/><font color = red>REJECT: blue pickup truck</font><br/><font color = red>REJECT: blue \\$5000</font><br/><font color = red>REJECT: pickup truck \\$5000</font><br/><font color = red>REJECT: blue truck \\$5000</font><br/><font color = red>REJECT: \\$5000 blue pickup truck</font><br/><font color = red>REJECT: blue car \\$5000</font><br/><font color = red>REJECT: blue toyota 1993 pick-up truck</font><br/><font color = red>REJECT: blue 1993 toyota automatic pick-up truck \\$5000</font><br/><font color = red>REJECT: fblue's pick-up truck sold for \\$5000</font><br/><font color = red>REJECT: pick-up trucks by fblue: \\$5000</font><br/><font color = red>REJECT: bluedy for sale pickup truck: \\$5000)</font>"
      ],
      "text/plain": [
       "<IPython.core.display.Markdown object>"
      ]
     },
     "metadata": {},
     "output_type": "display_data"
    }
   ],
   "source": [
    "# Exercise 18\n",
    "pickuptrack = '[Pp]ick[ -]?up truck'\n",
    "price = '\\$(0|[1-9]\\d{0,2}((,\\d{3})*|(\\d{3})*))(\\.\\d{2})?'\n",
    "blue = '[Bb]lue'\n",
    "def bluePickuptrack(blue, truck):\n",
    "    return '(.* )*%s (\\W{0,2}\\w* \\W{0,2}){0,2}%s' %(blue, truck)\n",
    "\n",
    "answer = '(%s|%s)\\W{0,2} (\\w*\\W{0,2} )*%s.*' %(bluePickuptrack(blue,pickuptrack),bluePickuptrack(pickuptrack,blue), price)\n",
    "# answer = '(.* )*[Bb]lue (\\w* ){0,2}pick[ -]?up truck \\$(0|[1-9]\\d{0,2}((,\\d{3})*|(\\d{3})*))(\\.\\d{2})?.*'\n",
    "# answer = '.*{}.*'.format(price)\n",
    "print(answer)\n",
    "# Test Strings:\n",
    "testStrings=['blue toyota + pick-up truck $5000', 'toy pickup truck - cherry blue $12.', 'desperate: blue 1993 toyota pickup truck for sale. $2,000 o.b.o.']\n",
    "shouldAccept=['blue pickup truck $5000', 'blue pickup truck $5,000', 'blue pickup truck $1,234.56', 'blue pick-up truck $5000', 'blue pick up truck $5000', 'blue toyota pick-up truck $5000', 'blue toyota 1993 pick-up truck $5000', 'blah blah blue toyota 1993 pick-up truck blah blah $5000 blah', 'pickup truck blue $5000', 'pick-up truck 1993 toyota blue $5000', 'blah blah blah pick-up truck toyota 1993 blue blah blah blah $5000', 'desperate: blue 1993 toyota pickup truck for sale. $2,000 o.b.o.', 'toy pickup truck - cherry blue: $12.', 'blue blue pickup pickup truck truck $5000.']\n",
    "shouldReject=['blue', 'truck', 'pickup truck', 'blue pickup truck', 'blue $5000', 'pickup truck $5000', 'blue truck $5000', '$5000 blue pickup truck', 'blue car $5000', 'blue toyota 1993 pick-up truck', 'blue 1993 toyota automatic pick-up truck $5000', \"fblue's pick-up truck sold for $5000\", 'pick-up trucks by fblue: $5000', 'bluedy for sale pickup truck: $5000)']\n",
    "display(Markdown(test_regex(shouldAccept,shouldReject,testStrings,answer)))"
   ]
  },
  {
   "cell_type": "markdown",
   "metadata": {},
   "source": [
    "<p><b>Exercise 19:</b> Develop a regular expression for a binary string that represents an unsigned value that is divisible by 3 <br>\n",
    "  <b>You must be able to explain how you got the answer to this question to get the point.</b>\n",
    "</p>\n",
    "<script type=\"text/javascript\">\n",
    "\n",
    "  var aMatchSuccess18 = new Array('11','110','1001','1100','10101','11011','100001','111111','1110101','101010110','000111000101');\n",
    "  var aMatchFail18 = new Array('1','10','100','111','110001','1000100','10010010','10101100','11100101','11011101','110110111');\n",
    "\n",
    "  InsertRegExBox(\n",
    "    'Exercise 19',\n",
    "    '',\n",
    "    MATCHFULLTEXT,\n",
    "    '',\n",
    "    MATCHLENDEFAULT,\n",
    "    aMatchSuccess18,\n",
    "    'aMatchSuccess18',\n",
    "    aMatchFail18,\n",
    "    'aMatchFail18'\n",
    "  );\n",
    "\n",
    "</script>\n"
   ]
  },
  {
   "cell_type": "code",
   "execution_count": 26,
   "metadata": {
    "pycharm": {
     "is_executing": false
    }
   },
   "outputs": [
    {
     "data": {
      "text/markdown": [
       "<h2>Test Strings:</h2>\n",
       "<font color = green >ACCEPT: 1101111000</font>\n",
       "<h2>Test Suite: (Should be ACCEPTED)</h2>\n",
       "<font color = green >ACCEPT: 11</font><br/><font color = green >ACCEPT: 110</font><br/><font color = green >ACCEPT: 1001</font><br/><font color = green >ACCEPT: 1100</font><br/><font color = green >ACCEPT: 10101</font><br/><font color = green >ACCEPT: 11011</font><br/><font color = green >ACCEPT: 100001</font><br/><font color = green >ACCEPT: 111111</font><br/><font color = green >ACCEPT: 1110101</font><br/><font color = green >ACCEPT: 101010110</font><br/><font color = green >ACCEPT: 000111000101</font>\n",
       "<h2>Test Suite: (Should be REJECTED)</h2>\n",
       "<font color = red>REJECT: 1</font><br/><font color = red>REJECT: 10</font><br/><font color = red>REJECT: 100</font><br/><font color = red>REJECT: 111</font><br/><font color = red>REJECT: 110001</font><br/><font color = red>REJECT: 1000100</font><br/><font color = red>REJECT: 10010010</font><br/><font color = red>REJECT: 10101100</font><br/><font color = red>REJECT: 11100101</font><br/><font color = red>REJECT: 11011101</font><br/><font color = red>REJECT: 110110111</font>"
      ],
      "text/plain": [
       "<IPython.core.display.Markdown object>"
      ]
     },
     "metadata": {},
     "output_type": "display_data"
    }
   ],
   "source": [
    "# Exercise 19\n",
    "answer = \"(0|1(01*0)*1)*\"\n",
    "# Test Strings:\n",
    "testStrings=['1101111000']\n",
    "shouldAccept=['11', '110', '1001', '1100', '10101', '11011', '100001', '111111', '1110101', '101010110', '000111000101']\n",
    "shouldReject=['1', '10', '100', '111', '110001', '1000100', '10010010', '10101100', '11100101', '11011101', '110110111']\n",
    "display(Markdown(test_regex(shouldAccept,shouldReject,testStrings,answer)))"
   ]
  },
  {
   "cell_type": "markdown",
   "metadata": {},
   "source": [
    "<h2><a name=\"sec10\"></a>Marking Scheme</h2>\n",
    "<br>\n",
    "<br>\n",
    "<br>\n",
    "<br>\n",
    "<br>\n",
    "<br>\n",
    "<center><img src=\"http://imgs.xkcd.com/comics/regular_expressions.png\">\n",
    "<br>\n",
    "<a href=\"http://xkcd.com/208/\">From xkcd.</a>\n",
    "</center>\n"
   ]
  }
 ],
 "metadata": {
  "kernelspec": {
   "display_name": "PyCharm (random_python_script)",
   "language": "python",
   "name": "pycharm-5f1edaa1"
  },
  "language_info": {
   "codemirror_mode": {
    "name": "ipython",
    "version": 3
   },
   "file_extension": ".py",
   "mimetype": "text/x-python",
   "name": "python",
   "nbconvert_exporter": "python",
   "pygments_lexer": "ipython3",
   "version": "3.7.4"
  },
  "pycharm": {
   "stem_cell": {
    "cell_type": "raw",
    "metadata": {
     "collapsed": false
    },
    "source": []
   }
  }
 },
 "nbformat": 4,
 "nbformat_minor": 2
}
