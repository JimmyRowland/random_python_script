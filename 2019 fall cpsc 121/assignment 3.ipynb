{
 "cells": [
  {
   "cell_type": "code",
   "execution_count": 1,
   "metadata": {
    "pycharm": {
     "is_executing": false,
     "name": "#%%\n"
    }
   },
   "outputs": [],
   "source": [
    "from sympy import Symbol, solve\n",
    "from math import *\n",
    "\n",
    "import numpy as np\n",
    "from scipy import constants\n",
    "import matplotlib.pyplot as plt\n",
    "e=constants.value(u'elementary charge')\n",
    "g=constants.value(u'standard acceleration of gravity')\n",
    "rhoW=1000\n",
    "rhoMercury=13690\n",
    "\n",
    "x = Symbol(\"x\")\n",
    "y = Symbol(\"y\")\n",
    "z = Symbol(\"z\")\n",
    "Ke = (4*pi*constants.epsilon_0)**(-1)\n",
    "epsilon_0=constants.epsilon_0\n",
    "eMass=9.10938356 / 10**31\n",
    "protonMass=1.6726219/10**27\n",
    "# Permeability=4*pi/10**7\n",
    "Permeability_air=constants.mu_0\n",
    "SPEED_OF_LIGHT=constants.c\n",
    "waterHeatOffusion=3.34*10**5\n",
    "waterHeatCapacity=4.186*10**3\n",
    "specificHeatIce=2.108*10**3\n",
    "waterVapor=2.256*10**6\n",
    "Kcopper=385\n",
    "Ksteel=50.2\n",
    "p0=constants.value(u'standard atmosphere')\n",
    "gas_constant=constants.value('molar gas constant')\n",
    "boltzmann = constants.value('Boltzmann constant')\n",
    "Avogadro=6.022*10**23\n",
    "T273=273.15\n",
    "c=3*10**8\n"
   ]
  },
  {
   "cell_type": "code",
   "execution_count": 2,
   "metadata": {
    "pycharm": {
     "is_executing": false,
     "name": "#%%\n"
    }
   },
   "outputs": [
    {
     "data": {
      "text/latex": [
       "$\\displaystyle 7.54421849985432$"
      ],
      "text/plain": [
       "7.54421849985432"
      ]
     },
     "execution_count": 2,
     "metadata": {},
     "output_type": "execute_result"
    }
   ],
   "source": [
    "\n",
    "\n",
    "\n",
    "solve(3**(x-1)*x-10000,x)[0].evalf()\n",
    "\n",
    "\n",
    "\n"
   ]
  },
  {
   "cell_type": "code",
   "execution_count": 3,
   "metadata": {
    "pycharm": {
     "is_executing": false,
     "name": "#%%\n"
    }
   },
   "outputs": [
    {
     "data": {
      "text/latex": [
       "$\\displaystyle 10.9333221071906$"
      ],
      "text/plain": [
       "10.9333221071906"
      ]
     },
     "execution_count": 3,
     "metadata": {},
     "output_type": "execute_result"
    }
   ],
   "source": [
    "solve(3**(x-1)*x-10000*60,x)[0].evalf()"
   ]
  },
  {
   "cell_type": "code",
   "execution_count": null,
   "metadata": {
    "pycharm": {
     "is_executing": true,
     "name": "#%%\n"
    }
   },
   "outputs": [],
   "source": [
    "solve(3**(x-1)*x-10000*60*60,x)[0].evalf()\n"
   ]
  },
  {
   "cell_type": "code",
   "execution_count": null,
   "metadata": {
    "pycharm": {
     "is_executing": true,
     "name": "#%%\n"
    }
   },
   "outputs": [],
   "source": [
    "solve(3**(x-1)*x-10000*60*60*24,x)[0].evalf()\n"
   ]
  },
  {
   "cell_type": "code",
   "execution_count": null,
   "metadata": {
    "pycharm": {
     "is_executing": true,
     "name": "#%%\n"
    }
   },
   "outputs": [],
   "source": [
    "aList = []\n",
    "aList.append([10000])\n",
    "aList.append([aList[0][0]*60])\n",
    "aList.append([aList[1][0]*60])\n",
    "aList.append([aList[2][0]*24])\n",
    "aList.append([aList[3][0]*30])\n",
    "aList.append([aList[3][0]*365])\n",
    "aList.append([aList[5][0]*10])\n",
    "aList.append([aList[6][0]*10])\n",
    "i = 0\n",
    "for x in aList:\n",
    "    # print(x)\n",
    "    while(3**(i-1)*i < x[0]):\n",
    "        i+=1\n",
    "    x.append(i-1)\n",
    "    print(x[0],3**(x[1]-1)*x[1],3**(i-1)*i)\n",
    "    print(x[1])\n",
    "print(15)\n",
    "        \n",
    "\n"
   ]
  },
  {
   "cell_type": "markdown",
   "metadata": {
    "pycharm": {
     "is_executing": false,
     "name": "#%% md\n"
    }
   },
   "source": [
    "<h1 style=\"color:green\"> something</h1>"
   ]
  },
  {
   "cell_type": "code",
   "execution_count": 10,
   "metadata": {
    "pycharm": {
     "is_executing": false,
     "name": "#%%\n"
    }
   },
   "outputs": [],
   "source": [
    "import re\n",
    "from testRegex import test_regex\n",
    "from IPython.display import display, Markdown, HTML\n",
    "\n"
   ]
  },
  {
   "cell_type": "code",
   "execution_count": 19,
   "metadata": {
    "pycharm": {
     "is_executing": false,
     "name": "#%%\n"
    }
   },
   "outputs": [
    {
     "data": {
      "text/markdown": [
       "# h1"
      ],
      "text/plain": [
       "<IPython.core.display.Markdown object>"
      ]
     },
     "metadata": {},
     "output_type": "display_data"
    },
    {
     "name": "stdout",
     "output_type": "stream",
     "text": [
      "<IPython.core.display.Markdown object>\n",
      "something\n"
     ]
    }
   ],
   "source": [
    "display(Markdown('# h1'))\n",
    "print(Markdown('# h1'))\n",
    "print(\"something\")"
   ]
  },
  {
   "cell_type": "code",
   "execution_count": 7,
   "metadata": {
    "pycharm": {
     "is_executing": false,
     "name": "#%%\n"
    }
   },
   "outputs": [
    {
     "name": "stdout",
     "output_type": "stream",
     "text": [
      "<h1 style=\"color:green\"> something</h1>\n"
     ]
    }
   ],
   "source": [
    "print('<h1 style=\"color:green\"> something</h1>')"
   ]
  },
  {
   "cell_type": "code",
   "execution_count": 8,
   "metadata": {
    "pycharm": {
     "is_executing": false,
     "name": "#%%\n"
    }
   },
   "outputs": [],
   "source": [
    "b = Markdown(\"#h1\")\n"
   ]
  },
  {
   "cell_type": "code",
   "execution_count": 11,
   "metadata": {},
   "outputs": [
    {
     "data": {
      "text/html": [
       "<h1>Hello, world!</h1>"
      ],
      "text/plain": [
       "<IPython.core.display.HTML object>"
      ]
     },
     "metadata": {},
     "output_type": "display_data"
    }
   ],
   "source": [
    "display(HTML('<h1>Hello, world!</h1>'))"
   ]
  }
 ],
 "metadata": {
  "kernelspec": {
   "display_name": "PyCharm (random_python_script)",
   "language": "python",
   "name": "pycharm-5f1edaa1"
  },
  "language_info": {
   "codemirror_mode": {
    "name": "ipython",
    "version": 3
   },
   "file_extension": ".py",
   "mimetype": "text/x-python",
   "name": "python",
   "nbconvert_exporter": "python",
   "pygments_lexer": "ipython3",
   "version": "3.7.4"
  },
  "pycharm": {
   "stem_cell": {
    "cell_type": "raw",
    "metadata": {
     "collapsed": false
    },
    "source": []
   }
  }
 },
 "nbformat": 4,
 "nbformat_minor": 1
}
