{
 "cells": [
  {
   "cell_type": "code",
   "execution_count": 2,
   "outputs": [],
   "source": [
    "from sympy import Symbol, solve\n",
    "from math import *\n",
    "\n",
    "import numpy as np\n",
    "from scipy import constants\n",
    "import matplotlib.pyplot as plt\n",
    "e=constants.value(u'elementary charge')\n",
    "g=constants.value(u'standard acceleration of gravity')\n",
    "rhoW=1000\n",
    "rhoMercury=13690\n",
    "\n",
    "x = Symbol(\"x\")\n",
    "y = Symbol(\"y\")\n",
    "z = Symbol(\"z\")\n",
    "Ke = (4*pi*constants.epsilon_0)**(-1)\n",
    "epsilon_0=constants.epsilon_0\n",
    "eMass=9.10938356 / 10**31\n",
    "protonMass=1.6726219/10**27\n",
    "# Permeability=4*pi/10**7\n",
    "Permeability_air=constants.mu_0\n",
    "SPEED_OF_LIGHT=constants.c\n",
    "waterHeatOffusion=3.34*10**5\n",
    "waterHeatCapacity=4.186*10**3\n",
    "specificHeatIce=2.108*10**3\n",
    "waterVapor=2.256*10**6\n",
    "Kcopper=385\n",
    "Ksteel=50.2\n",
    "p0=constants.value(u'standard atmosphere')\n",
    "gas_constant=constants.value('molar gas constant')\n",
    "boltzmann = constants.value('Boltzmann constant')\n",
    "Avogadro=6.022*10**23\n",
    "T273=273.15\n",
    "c=3*10**8\n"
   ],
   "metadata": {
    "collapsed": false,
    "pycharm": {
     "name": "#%%\n",
     "is_executing": false
    }
   }
  },
  {
   "cell_type": "code",
   "execution_count": 3,
   "outputs": [
    {
     "data": {
      "text/plain": "7.54421849985432",
      "text/latex": "$\\displaystyle 7.54421849985432$"
     },
     "metadata": {},
     "output_type": "execute_result",
     "execution_count": 3
    }
   ],
   "source": [
    "solve(3**(x-1)*x-10000,x)[0].evalf()\n"
   ],
   "metadata": {
    "collapsed": false,
    "pycharm": {
     "name": "#%%\n",
     "is_executing": false
    }
   }
  },
  {
   "cell_type": "code",
   "execution_count": 4,
   "outputs": [
    {
     "data": {
      "text/plain": "10.9333221071906",
      "text/latex": "$\\displaystyle 10.9333221071906$"
     },
     "metadata": {},
     "output_type": "execute_result",
     "execution_count": 4
    }
   ],
   "source": [
    "solve(3**(x-1)*x-10000*60,x)[0].evalf()"
   ],
   "metadata": {
    "collapsed": false,
    "pycharm": {
     "name": "#%%\n",
     "is_executing": false
    }
   }
  },
  {
   "cell_type": "code",
   "execution_count": null,
   "outputs": [],
   "source": [
    "solve(3**(x-1)*x-10000*60*60,x)[0].evalf()\n"
   ],
   "metadata": {
    "collapsed": false,
    "pycharm": {
     "name": "#%%\n",
     "is_executing": true
    }
   }
  },
  {
   "cell_type": "code",
   "execution_count": null,
   "outputs": [],
   "source": [
    "solve(3**(x-1)*x-10000*60*60*24,x)[0].evalf()\n"
   ],
   "metadata": {
    "collapsed": false,
    "pycharm": {
     "name": "#%%\n",
     "is_executing": true
    }
   }
  },
  {
   "cell_type": "code",
   "execution_count": 4,
   "outputs": [
    {
     "name": "stdout",
     "text": [
      "10000 5103 17496\n7\n600000 196830 649539\n10\n36000000 22320522 71744535\n14\n864000000 731794257 2324522934\n17\n25920000000 23245229340 73222472421\n20\n315360000000 230127770466 721764371007\n22\n3153600000000 2259436291848 7060738412025\n24\n315360000000000 213516729579636 663426981193869\n28\n"
     ],
     "output_type": "stream"
    }
   ],
   "source": [
    "aList = []\n",
    "aList.append([10000])\n",
    "aList.append([aList[0][0]*60])\n",
    "aList.append([aList[1][0]*60])\n",
    "aList.append([aList[2][0]*24])\n",
    "aList.append([aList[3][0]*30])\n",
    "aList.append([aList[3][0]*365])\n",
    "aList.append([aList[5][0]*10])\n",
    "aList.append([aList[6][0]*100])\n",
    "i = 0\n",
    "for x in aList:\n",
    "    # print(x)\n",
    "    while(3**(i-1)*i < x[0]):\n",
    "        i+=1\n",
    "    x.append(i-1)\n",
    "    print(x[0],3**(x[1]-1)*x[1],3**(i-1)*i)\n",
    "    print(x[1])\n",
    "        \n",
    "        \n",
    "\n"
   ],
   "metadata": {
    "collapsed": false,
    "pycharm": {
     "name": "#%%\n",
     "is_executing": false
    }
   }
  },
  {
   "cell_type": "code",
   "execution_count": null,
   "outputs": [],
   "source": [
    "\n"
   ],
   "metadata": {
    "collapsed": false,
    "pycharm": {
     "name": "#%%\n",
     "is_executing": true
    }
   }
  }
 ],
 "metadata": {
  "kernelspec": {
   "name": "pycharm-5f1edaa1",
   "language": "python",
   "display_name": "PyCharm (random_python_script)"
  },
  "language_info": {
   "codemirror_mode": {
    "name": "ipython",
    "version": 2
   },
   "file_extension": ".py",
   "mimetype": "text/x-python",
   "name": "python",
   "nbconvert_exporter": "python",
   "pygments_lexer": "ipython2",
   "version": "2.7.6"
  },
  "pycharm": {
   "stem_cell": {
    "cell_type": "raw",
    "source": [],
    "metadata": {
     "collapsed": false
    }
   }
  }
 },
 "nbformat": 4,
 "nbformat_minor": 0
}